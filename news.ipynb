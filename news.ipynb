{
 "cells": [
  {
   "cell_type": "code",
   "execution_count": 1,
   "metadata": {},
   "outputs": [],
   "source": [
    "import os\n",
    "import json\n",
    "import requests"
   ]
  },
  {
   "cell_type": "code",
   "execution_count": 2,
   "metadata": {},
   "outputs": [],
   "source": [
    "url = 'https://newsapi.org/v2/everything'\n",
    "\n",
    "parameters = {\n",
    "    'apiKey': os.environ.get('NEWS_API_KEY'),\n",
    "    'q': 'Trump',\n",
    "    'from': '2025-01-22',\n",
    "    'language': 'en',\n",
    "    'sortBy':'relevancy'\n",
    "}"
   ]
  },
  {
   "cell_type": "code",
   "execution_count": 4,
   "metadata": {},
   "outputs": [
    {
     "name": "stdout",
     "output_type": "stream",
     "text": [
      "<class 'list'>\n",
      "[{'source': {'id': 'wired', 'name': 'Wired'}, 'author': 'Lily Hay Newman', 'title': 'Under Trump, US Cyberdefense Loses Its Head', 'description': 'Chinese hacks, rampant ransomware, and Donald Trump’s budget cuts all threaten US security. In an exit interview with WIRED, former CISA head Jen Easterly argues for her agency’s survival.', 'url': 'https://www.wired.com/story/big-interview-jen-easterly-cisa-cybersecurity/', 'urlToImage': 'https://media.wired.com/photos/67911cf80aa3f15ee684180c/191:100/w_1280,c_limit/DS-JenEasterly-diptych.jpg', 'publishedAt': '2025-01-23T11:00:00Z', 'content': 'Do you feel that there are too many cooks in the US federal cybersecurity kitchen? Has that been an issue?\\r\\nIt really has not. A lot of people have asked that question, but when the SolarWinds incide… [+3766 chars]'}, {'source': {'id': 'the-verge', 'name': 'The Verge'}, 'author': 'Sarah Jeong', 'title': 'Trump pardons Silk Road operator Ross Ulbricht', 'description': 'Pardoning Ulbricht, who was serving a life sentence, fulfills a campaign promise made to crypto diehards who backed Donald Trump’s campaign.', 'url': 'https://www.theverge.com/2025/1/21/24349080/trump-pardon-silk-road-dark-web-drug-marketplace-ross-ulbricht', 'urlToImage': 'https://cdn.vox-cdn.com/thumbor/W_lGO8eNlUcEjBmUJg7KMYgT8-c=/0x0:2040x1360/1200x628/filters:focal(1081x561:1082x562)/cdn.vox-cdn.com/uploads/chorus_asset/file/25531809/STK175_DONALD_TRUMP_CVIRGINIA_C.jpg', 'publishedAt': '2025-01-22T01:17:14Z', 'content': 'Trump pardons Silk Road operator Ross Ulbricht\\r\\nTrump pardons Silk Road operator Ross Ulbricht\\r\\n / The pardon fulfills a campaign promise made to the presidents crypto diehards.\\r\\nBySarah Jeong, featu… [+1805 chars]'}, {'source': {'id': 'wired', 'name': 'Wired'}, 'author': 'David Gilbert', 'title': \"'We Have Seen a Lot More Hate’: Trans People Are Already Terrified\", 'description': 'After Trump signed a sweeping executive order directed against trans people this week, trans and nonbinary people are scared of what happens next.', 'url': 'https://www.wired.com/story/trump-executive-order-transgender-kids/', 'urlToImage': 'https://media.wired.com/photos/678ff2ebb02e4af799e50ab2/191:100/w_1280,c_limit/trans-rights-pol-2188236726.jpg', 'publishedAt': '2025-01-24T14:41:09Z', 'content': 'Now, after Trumps comment and actions on the first day of his presidency, the groups crisis helpline is once again receiving a torrent of calls. Sixty-two percent of incoming calls this week, the gro… [+2959 chars]'}]\n"
     ]
    }
   ],
   "source": [
    "response = requests.get(url, params=parameters)\n",
    "data = response.json() # o: python dict\n",
    "# print(data)\n",
    "# print(type(data))\n",
    "\n",
    "news_pieces = data['articles'][0:3]\n",
    "print(type(news_pieces))\n",
    "print(news_pieces)"
   ]
  },
  {
   "cell_type": "code",
   "execution_count": null,
   "metadata": {},
   "outputs": [],
   "source": []
  }
 ],
 "metadata": {
  "kernelspec": {
   "display_name": "Python 3",
   "language": "python",
   "name": "python3"
  },
  "language_info": {
   "codemirror_mode": {
    "name": "ipython",
    "version": 3
   },
   "file_extension": ".py",
   "mimetype": "text/x-python",
   "name": "python",
   "nbconvert_exporter": "python",
   "pygments_lexer": "ipython3",
   "version": "3.12.3"
  }
 },
 "nbformat": 4,
 "nbformat_minor": 2
}
