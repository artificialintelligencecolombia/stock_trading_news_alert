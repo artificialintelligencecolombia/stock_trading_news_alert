{
 "cells": [
  {
   "cell_type": "code",
   "execution_count": 1,
   "metadata": {},
   "outputs": [],
   "source": [
    "import os\n",
    "import json\n",
    "import requests"
   ]
  },
  {
   "cell_type": "code",
   "execution_count": null,
   "metadata": {},
   "outputs": [],
   "source": [
    "url = 'https://newsapi.org/v2/everything'\n",
    "\n",
    "parameters = {\n",
    "    'apiKey': os.environ.get('NEWS_API_KEY'),\n",
    "    'q': 'Trump',\n",
    "    'from': '2025-01-22',\n",
    "    'language': 'en',\n",
    "    'sortBy':'relevancy'\n",
    "}"
   ]
  },
  {
   "cell_type": "code",
   "execution_count": 14,
   "metadata": {},
   "outputs": [
    {
     "name": "stdout",
     "output_type": "stream",
     "text": [
      "[{'source': {'id': None, 'name': 'Yahoo Entertainment'}, 'author': 'Associated Press Videos', 'title': 'Colombian police seize 8.2 tons of cocaine intended for shipment to Europe', 'description': 'Colombian authorities seized 8.2 tons of cocaine at a Pacific port, one of the largest seizures ever made in the country, President Gustavo Petro announced...', 'url': 'https://www.yahoo.com/news/colombian-police-seize-8-2-194936603.html', 'urlToImage': 'https://s.yimg.com/ny/api/res/1.2/GoCBA9SQQUCyyon4YyIraA--/YXBwaWQ9aGlnaGxhbmRlcjt3PTEyMDA7aD02NzU-/https://cf-images.us-east-1.prod.boltdns.net/v1/jit/6415665815001/869c58c4-e744-430a-bd3f-fb6f6fef815f/main/1280x720/19s690ms/match/image.jpg', 'publishedAt': '2025-01-22T19:49:36Z', 'content': 'Colombian authorities seized 8.2 tons of cocaine at a Pacific port, one of the largest seizures ever made in the country, President Gustavo Petro announced on Wednesday. The drugs were found in sacks… [+109 chars]'}, {'source': {'id': 'al-jazeera-english', 'name': 'Al Jazeera English'}, 'author': 'Al Jazeera', 'title': 'Colombia seeks to reassert control as rebel fighting kills over 100', 'description': 'Government sends troops into coca-rich northeast Catatumbo region in bid to quell hostilities among rebel groups.', 'url': 'https://www.aljazeera.com/news/2025/1/22/colombia-seeks-to-reassert-control-as-rebel-fighting-kills-over-100', 'urlToImage': 'https://www.aljazeera.com/wp-content/uploads/2025/01/AFP__20250121__36V89J8__v1__HighRes__ColombiaConflictRebels-1737538750.jpg?resize=1920%2C1440', 'publishedAt': '2025-01-22T11:26:36Z', 'content': 'Colombian special forces have been deployed into territory controlled by armed groups in a bid to stem an outbreak of hostilities among the rebels.\\r\\nLate on Tuesday, government troops moved into area… [+2496 chars]'}, {'source': {'id': None, 'name': 'International Business Times'}, 'author': 'David SALAZAR', 'title': 'Colombia Moves To Arrest Guerrilla Leaders Behind Wave Of Violence', 'description': \"Colombia on Wednesday reinstated arrest warrants for dozens of guerrilla commanders blamed for armed attacks that displaced 32,000 people and sparked the country's most serious security crisis in years.\", 'url': 'https://www.ibtimes.com/colombia-moves-arrest-guerrilla-leaders-behind-wave-violence-3760475', 'urlToImage': 'https://d.ibtimes.com/en/full/4577417/pablo-beltran-l-nicolas-rodriguez-bautista-alias-gabino-are-two-top-leaders-eln-guerrilla.jpg', 'publishedAt': '2025-01-22T21:57:17Z', 'content': \"Colombia on Wednesday reinstated arrest warrants for dozens of guerrilla commanders blamed for armed attacks that displaced 32,000 people and sparked the country's most serious security crisis in yea… [+3476 chars]\"}]\n"
     ]
    }
   ],
   "source": [
    "response = requests.get(url, params=parameters)\n",
    "data = response.json() # o: python dict\n",
    "# print(data)\n",
    "# print(type(data))\n",
    "\n",
    "news_pieces = data['articles'][0:3]\n",
    "print(news_pieces)"
   ]
  },
  {
   "cell_type": "code",
   "execution_count": null,
   "metadata": {},
   "outputs": [],
   "source": []
  }
 ],
 "metadata": {
  "kernelspec": {
   "display_name": "Python 3",
   "language": "python",
   "name": "python3"
  },
  "language_info": {
   "codemirror_mode": {
    "name": "ipython",
    "version": 3
   },
   "file_extension": ".py",
   "mimetype": "text/x-python",
   "name": "python",
   "nbconvert_exporter": "python",
   "pygments_lexer": "ipython3",
   "version": "3.12.3"
  }
 },
 "nbformat": 4,
 "nbformat_minor": 2
}
