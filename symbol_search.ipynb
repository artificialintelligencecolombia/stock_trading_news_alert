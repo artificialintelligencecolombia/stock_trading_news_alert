{
 "cells": [
  {
   "cell_type": "code",
   "execution_count": 1,
   "metadata": {},
   "outputs": [],
   "source": [
    "import os\n",
    "import requests"
   ]
  },
  {
   "cell_type": "code",
   "execution_count": 2,
   "metadata": {},
   "outputs": [],
   "source": [
    "ALPHA_API_KEY = os.environ.get('ALPHA_API_KEY')"
   ]
  },
  {
   "cell_type": "code",
   "execution_count": 6,
   "metadata": {},
   "outputs": [],
   "source": [
    "url = 'https://www.alphavantage.co/query?'\n",
    "params = {\n",
    "    'function': 'SYMBOL_SEARCH',\n",
    "    'keywords': 's&p',\n",
    "    'apikey': ALPHA_API_KEY\n",
    "}\n"
   ]
  },
  {
   "cell_type": "code",
   "execution_count": 7,
   "metadata": {},
   "outputs": [
    {
     "name": "stdout",
     "output_type": "stream",
     "text": [
      "Response: <Response [200]>\n",
      "code: 200\n"
     ]
    }
   ],
   "source": [
    "response = requests.get(url, params=params)\n",
    "response.raise_for_status()\n",
    "print(f\"Response: {response}\")\n",
    "print(f\"code: {response.status_code}\")"
   ]
  },
  {
   "cell_type": "code",
   "execution_count": 8,
   "metadata": {},
   "outputs": [
    {
     "name": "stdout",
     "output_type": "stream",
     "text": [
      "{'bestMatches': [{'1. symbol': 'RYSPX', '2. name': 'S&P 500 FUND CLASS H', '3. type': 'Mutual Fund', '4. region': 'United States', '5. marketOpen': '09:30', '6. marketClose': '16:00', '7. timezone': 'UTC-04', '8. currency': 'USD', '9. matchScore': '0.5000'}, {'1. symbol': 'GESPX', '2. name': 'S&P 500 INDEX FUND CLASS 1 SHARES', '3. type': 'Mutual Fund', '4. region': 'United States', '5. marketOpen': '09:30', '6. marketClose': '16:00', '7. timezone': 'UTC-04', '8. currency': 'USD', '9. matchScore': '0.5000'}, {'1. symbol': 'SPFIX', '2. name': 'S&P 500 INDEX FUND INVESTOR SHARES', '3. type': 'Mutual Fund', '4. region': 'United States', '5. marketOpen': '09:30', '6. marketClose': '16:00', '7. timezone': 'UTC-04', '8. currency': 'USD', '9. matchScore': '0.5000'}, {'1. symbol': 'SPXKX', '2. name': 'S&P 500 INDEX FUND K SHARES', '3. type': 'Mutual Fund', '4. region': 'United States', '5. marketOpen': '09:30', '6. marketClose': '16:00', '7. timezone': 'UTC-04', '8. currency': 'USD', '9. matchScore': '0.5000'}, {'1. symbol': 'CPSA', '2. name': 'S&P 500 Structured Alt Protection ETF August', '3. type': 'ETF', '4. region': 'United States', '5. marketOpen': '09:30', '6. marketClose': '16:00', '7. timezone': 'UTC-04', '8. currency': 'USD', '9. matchScore': '0.2857'}, {'1. symbol': 'CPSO', '2. name': 'S&P 500 Structured Alt Protection ETF - October', '3. type': 'ETF', '4. region': 'United States', '5. marketOpen': '09:30', '6. marketClose': '16:00', '7. timezone': 'UTC-04', '8. currency': 'USD', '9. matchScore': '0.2857'}, {'1. symbol': 'GIDSX', '2. name': 'S&P 500 INDEX FUND SERVICE CLASS', '3. type': 'Mutual Fund', '4. region': 'United States', '5. marketOpen': '09:30', '6. marketClose': '16:00', '7. timezone': 'UTC-04', '8. currency': 'USD', '9. matchScore': '0.2500'}, {'1. symbol': 'RYGRX', '2. name': 'S&P 500 PURE GROWTH FUND CLASS C', '3. type': 'Mutual Fund', '4. region': 'United States', '5. marketOpen': '09:30', '6. marketClose': '16:00', '7. timezone': 'UTC-04', '8. currency': 'USD', '9. matchScore': '0.1714'}, {'1. symbol': 'GIDIX', '2. name': 'S&P 500 INDEX FUND INVESTMENT CLASS', '3. type': 'Mutual Fund', '4. region': 'United States', '5. marketOpen': '09:30', '6. marketClose': '16:00', '7. timezone': 'UTC-04', '8. currency': 'USD', '9. matchScore': '0.1579'}, {'1. symbol': 'INDEX1', '2. name': 'S&P 500(R) EQUAL WEIGHT NO LOAD SHARES', '3. type': 'Mutual Fund', '4. region': 'United States', '5. marketOpen': '09:30', '6. marketClose': '16:00', '7. timezone': 'UTC-04', '8. currency': 'USD', '9. matchScore': '0.1463'}]}\n"
     ]
    }
   ],
   "source": [
    "data = response.json()\n",
    "print(data)"
   ]
  },
  {
   "cell_type": "code",
   "execution_count": null,
   "metadata": {},
   "outputs": [],
   "source": []
  }
 ],
 "metadata": {
  "kernelspec": {
   "display_name": "Python 3",
   "language": "python",
   "name": "python3"
  },
  "language_info": {
   "codemirror_mode": {
    "name": "ipython",
    "version": 3
   },
   "file_extension": ".py",
   "mimetype": "text/x-python",
   "name": "python",
   "nbconvert_exporter": "python",
   "pygments_lexer": "ipython3",
   "version": "3.12.3"
  }
 },
 "nbformat": 4,
 "nbformat_minor": 2
}
