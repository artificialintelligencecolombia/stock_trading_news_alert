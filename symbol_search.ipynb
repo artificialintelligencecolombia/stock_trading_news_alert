{
 "cells": [
  {
   "cell_type": "code",
   "execution_count": 6,
   "metadata": {},
   "outputs": [],
   "source": [
    "import os\n",
    "import requests"
   ]
  },
  {
   "cell_type": "code",
   "execution_count": 7,
   "metadata": {},
   "outputs": [],
   "source": [
    "ALPHA_API_KEY = os.environ.get('ALPHA_API_KEY')"
   ]
  },
  {
   "cell_type": "code",
   "execution_count": 14,
   "metadata": {},
   "outputs": [],
   "source": [
    "url = 'https://www.alphavantage.co/query?'\n",
    "params = {\n",
    "    'function': 'SYMBOL_SEARCH',\n",
    "    'keywords': 'gold',\n",
    "    'apikey': ALPHA_API_KEY\n",
    "}\n"
   ]
  },
  {
   "cell_type": "code",
   "execution_count": 15,
   "metadata": {},
   "outputs": [
    {
     "name": "stdout",
     "output_type": "stream",
     "text": [
      "Response: <Response [200]>\n",
      "code: 200\n"
     ]
    }
   ],
   "source": [
    "response = requests.get(url, params=params)\n",
    "response.raise_for_status()\n",
    "print(f\"Response: {response}\")\n",
    "print(f\"code: {response.status_code}\")"
   ]
  },
  {
   "cell_type": "code",
   "execution_count": 16,
   "metadata": {},
   "outputs": [
    {
     "name": "stdout",
     "output_type": "stream",
     "text": [
      "{'bestMatches': [{'1. symbol': 'GOLD', '2. name': 'Barrick Gold Corp', '3. type': 'Equity', '4. region': 'United States', '5. marketOpen': '09:30', '6. marketClose': '16:00', '7. timezone': 'UTC-04', '8. currency': 'USD', '9. matchScore': '1.0000'}, {'1. symbol': 'GOLDD', '2. name': 'Pele Mountain Resources Inc', '3. type': 'Equity', '4. region': 'United States', '5. marketOpen': '09:30', '6. marketClose': '16:00', '7. timezone': 'UTC-04', '8. currency': 'USD', '9. matchScore': '0.8889'}, {'1. symbol': 'GOLD.AMS', '2. name': 'Amundi Physical Gold ETC C', '3. type': 'Equity', '4. region': 'Amsterdam', '5. marketOpen': '09:00', '6. marketClose': '17:40', '7. timezone': 'UTC+01', '8. currency': 'EUR', '9. matchScore': '0.7273'}, {'1. symbol': 'GOLD.PAR', '2. name': 'Amundi Physical Gold ETC C EUR', '3. type': 'ETF', '4. region': 'Paris', '5. marketOpen': '09:00', '6. marketClose': '17:30', '7. timezone': 'UTC+02', '8. currency': 'EUR', '9. matchScore': '0.7273'}, {'1. symbol': 'GOLD.TRT', '2. name': 'GoldMining Inc', '3. type': 'Equity', '4. region': 'Toronto', '5. marketOpen': '09:30', '6. marketClose': '16:00', '7. timezone': 'UTC-05', '8. currency': 'CAD', '9. matchScore': '0.7273'}, {'1. symbol': 'GOLD11.SAO', '2. name': 'Trend Etf Lbma Ouro Fundo Investimento Cotas De Fundo De Andice Investimento Exterior', '3. type': 'ETF', '4. region': 'Brazil/Sao Paolo', '5. marketOpen': '10:00', '6. marketClose': '17:30', '7. timezone': 'UTC-03', '8. currency': 'BRL', '9. matchScore': '0.6154'}, {'1. symbol': 'GOLDIAM.BSE', '2. name': 'GOLDIAM INTERNATIONAL LTD.', '3. type': 'Equity', '4. region': 'India/Bombay', '5. marketOpen': '09:15', '6. marketClose': '15:30', '7. timezone': 'UTC+5.5', '8. currency': 'INR', '9. matchScore': '0.5714'}, {'1. symbol': 'GOLDBEES.BSE', '2. name': 'Nippon India ETF Gold BeES', '3. type': 'ETF', '4. region': 'India/Bombay', '5. marketOpen': '09:15', '6. marketClose': '15:30', '7. timezone': 'UTC+5.5', '8. currency': 'INR', '9. matchScore': '0.5333'}, {'1. symbol': 'GOLDCOINHF.BSE', '2. name': 'Gold Coin Health Foods Ltd', '3. type': 'Equity', '4. region': 'India/Bombay', '5. marketOpen': '09:15', '6. marketClose': '15:30', '7. timezone': 'UTC+5.5', '8. currency': 'INR', '9. matchScore': '0.4706'}, {'1. symbol': 'GOLDENTOBC.BSE', '2. name': 'GOLDEN TOBACCO LTD.', '3. type': 'Equity', '4. region': 'India/Bombay', '5. marketOpen': '09:15', '6. marketClose': '15:30', '7. timezone': 'UTC+5.5', '8. currency': 'INR', '9. matchScore': '0.4706'}]}\n"
     ]
    }
   ],
   "source": [
    "data = response.json()\n",
    "print(data)"
   ]
  },
  {
   "cell_type": "code",
   "execution_count": null,
   "metadata": {},
   "outputs": [],
   "source": []
  }
 ],
 "metadata": {
  "kernelspec": {
   "display_name": "Python 3",
   "language": "python",
   "name": "python3"
  },
  "language_info": {
   "codemirror_mode": {
    "name": "ipython",
    "version": 3
   },
   "file_extension": ".py",
   "mimetype": "text/x-python",
   "name": "python",
   "nbconvert_exporter": "python",
   "pygments_lexer": "ipython3",
   "version": "3.12.3"
  }
 },
 "nbformat": 4,
 "nbformat_minor": 2
}
