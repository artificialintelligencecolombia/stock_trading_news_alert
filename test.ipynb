{
 "cells": [
  {
   "cell_type": "code",
   "execution_count": 1,
   "metadata": {},
   "outputs": [],
   "source": [
    "# Imports\n",
    "import os\n",
    "import requests\n",
    "import pandas as pd\n",
    "import datetime\n",
    "from twilio.rest import Client"
   ]
  },
  {
   "cell_type": "code",
   "execution_count": 2,
   "metadata": {},
   "outputs": [],
   "source": [
    "# GLOBAL API Setup\n",
    "ALPHA_API_KEY = os.environ.get('ALPHA_API_KEY')\n",
    "NEWS_API_KEY = os.environ.get('NEWS_API_KEY')\n",
    "TWILIO_ACCOUNT_SID = os.environ.get('TWILIO_ACCOUNT_SID')\n",
    "TWILIO_AUTH_TOKEN = os.environ.get('TWILIO_AUTH_TOKEN')\n",
    "FROM_WPP = os.environ.get('FROM_WPP')\n",
    "TO_WPP = os.environ.get('TO_WPP')\n",
    "ALPHA_URL = 'https://www.alphavantage.co/query?'\n",
    "NEWS_URL = 'https://newsapi.org/v2/everything'\n"
   ]
  },
  {
   "cell_type": "code",
   "execution_count": 18,
   "metadata": {},
   "outputs": [],
   "source": [
    "\n",
    "# Stock variation calculation\n",
    "def get_stock_variation(stock_symbol) -> bool:\n",
    "    \"\"\"Fetch stock variation percentage and check if it exceeds 5%.\"\"\"\n",
    "    alpha_params = {\n",
    "        'function': 'TIME_SERIES_DAILY',\n",
    "        'symbol': stock_symbol.upper(),\n",
    "        'apikey': ALPHA_API_KEY\n",
    "    }\n",
    "    \n",
    "    response = requests.get(ALPHA_URL, params=alpha_params)\n",
    "    response.raise_for_status()\n",
    "    raw_data = response.json()\n",
    "    data = raw_data[\"Time Series (Daily)\"]\n",
    "    \n",
    "    # Get sorted available dates from API\n",
    "    dates = sorted(data.keys(), reverse=True)\n",
    "    \n",
    "    try:\n",
    "        yesterday_date = dates[0]\n",
    "        two_days_ago_date = dates[1]\n",
    "    except IndexError:\n",
    "        print(\"Not enough data to calculate stock variation\")\n",
    "        return False\n",
    "    \n",
    "    # Fetch close prices\n",
    "    yesterday_close = float(data[yesterday_date][\"4. close\"])\n",
    "    two_days_close = float(data[two_days_ago_date][\"4. close\"])\n",
    "    \n",
    "    percentage_difference = (yesterday_close - two_days_close) / yesterday_close * 100\n",
    "    print(f'Stock price variation:{percentage_difference}')\n",
    "    \n",
    "    if abs(percentage_difference) >= 5:\n",
    "        print(\"The variation is more than 5%\")\n",
    "        return True\n",
    "    else:\n",
    "        print(\"The variation is within 5%\")\n",
    "        return False"
   ]
  },
  {
   "cell_type": "code",
   "execution_count": 4,
   "metadata": {},
   "outputs": [],
   "source": [
    "# Fetch news articles\n",
    "def get_news(query) -> list:\n",
    "    \"\"\"Retrieve top 3 news articles based on the query.\"\"\"\n",
    "    \n",
    "    yesterday_date = datetime.datetime.now() - datetime.timedelta(days=1)\n",
    "    news_params = {\n",
    "        'apiKey': os.environ.get('NEWS_API_KEY'),\n",
    "        'q': query,\n",
    "        'from': yesterday_date,\n",
    "        'language': 'en',\n",
    "        'sortBy':'relevancy'\n",
    "    }\n",
    "    \n",
    "    response = requests.get(NEWS_URL, news_params)\n",
    "    response.raise_for_status()\n",
    "    data = response.json() # o: python dict\n",
    "    # print(data)\n",
    "    # print(type(data))\n",
    "\n",
    "    return data['articles'][0:3]"
   ]
  },
  {
   "cell_type": "code",
   "execution_count": 5,
   "metadata": {},
   "outputs": [],
   "source": [
    "# Send wpp message\n",
    "def set_wpp_message(message):\n",
    "    \"\"\"Send a WhatsApp message using Twilio.\"\"\"\n",
    "    client = Client(TWILIO_ACCOUNT_SID, TWILIO_AUTH_TOKEN)\n",
    "    msn = client.messages.create( \n",
    "        body=message,\n",
    "        from_=FROM_WPP,\n",
    "        to=TO_WPP,\n",
    "        )\n",
    "    return msn.status"
   ]
  },
  {
   "cell_type": "code",
   "execution_count": 10,
   "metadata": {},
   "outputs": [
    {
     "name": "stdout",
     "output_type": "stream",
     "text": [
      "-0.395008528593229\n",
      "The variation is within 5%\n",
      "False\n",
      "[{'source': {'id': None, 'name': '9to5Mac'}, 'author': 'Michael Burkhardt', 'title': 'Gurman: Apple Stores performing ‘marketing updates’ next week', 'description': 'According to a tweet from Bloomberg’s Mark Gurman, Apple will be performing some “merchandise/floor marketing updates” at its retail stores next week. While specific details aren’t confirmed, Apple is likely launching the new Black Unity Apple Watch band for …', 'url': 'https://9to5mac.com/2025/01/25/apple-store-marketing-updates-gurman/', 'urlToImage': 'https://i0.wp.com/9to5mac.com/wp-content/uploads/sites/6/2024/09/apple-fifth-ave-apple-intelligence-iphone-16.jpg?resize=1200%2C628&quality=82&strip=all&ssl=1', 'publishedAt': '2025-01-25T22:47:10Z', 'content': 'According to a tweet from Bloomberg’s Mark Gurman, Apple will be performing some “merchandise/floor marketing updates” at its retail stores next week. While specific details aren’t confirmed, Apple i… [+1123 chars]'}, {'source': {'id': None, 'name': 'NPR'}, 'author': 'Bobby Allyn', 'title': 'EXCLUSIVE: White House in talks to have Oracle and U.S. investors take over TikTok', 'description': 'The aim is to place oversight control in the hands of American software company Oracle and other investors. Under federal law, TikTok must split apart from China, or face a nationwide ban.', 'url': 'https://www.npr.org/2025/01/25/g-s1-44779/tiktok-ban-deal-trump-oracle', 'urlToImage': 'https://npr.brightspotcdn.com/dims3/default/strip/false/crop/3000x1688+0+154/resize/1400/quality/100/format/jpeg/?url=http%3A%2F%2Fnpr-brightspot.s3.amazonaws.com%2Fe7%2F42%2Ff32c4986432693c9b8912c16f25b%2Fap25017534322001.jpg', 'publishedAt': '2025-01-25T22:06:20Z', 'content': \"The Trump administration is working on a plan to save TikTok that involves tapping software company Oracle and a group of outside investors to effectively take control of the app's global operations,… [+6733 chars]\"}, {'source': {'id': None, 'name': '9to5Mac'}, 'author': 'Michael Burkhardt', 'title': 'Apple may launch the first foldable iPhone next year: Here’s what we know so far', 'description': 'Rumors about foldable iPhones have circulated for many years, but recent reports have suggested that Apple is finally getting closer to announcing its new product. Apple is reportedly working on two foldable products, a clamshell foldable iPhone and a giant 2…', 'url': 'https://9to5mac.com/2025/01/25/foldable-iphone-rumor-roundup-next-year/', 'urlToImage': 'https://i0.wp.com/9to5mac.com/wp-content/uploads/sites/6/2024/07/foldable-iphone-2026.jpg?resize=1200%2C628&quality=82&strip=all&ssl=1', 'publishedAt': '2025-01-25T18:26:21Z', 'content': 'Rumors about foldable iPhones have circulated for many years, but recent reports have suggested that Apple is finally getting closer to announcing its new product. Apple is reportedly working on two … [+2790 chars]'}]\n"
     ]
    }
   ],
   "source": [
    "# TEST\n",
    "stock_price_variation = get_stock_variation(\"AAPL\")\n",
    "print(stock_price_variation)\n",
    "news = get_news(\"apple\")\n",
    "print(news)\n",
    "message= \"Holi, testing\"\n",
    "msn = set_wpp_message(message)"
   ]
  },
  {
   "cell_type": "code",
   "execution_count": 19,
   "metadata": {},
   "outputs": [],
   "source": [
    "def main():\n",
    "    stock_price_variation = get_stock_variation(\"AAPL\")\n",
    "    if stock_price_variation:\n",
    "        news = get_news(\"apple\")\n",
    "        for article in news:\n",
    "            message = f\"Headline: {article['title']}\\nBrief: {article['description']}\\nLink: {article['url']}\"\n",
    "            set_wpp_message(message)\n",
    "    else:\n",
    "        print(\"No stock variation detected\")"
   ]
  },
  {
   "cell_type": "code",
   "execution_count": 20,
   "metadata": {},
   "outputs": [
    {
     "name": "stdout",
     "output_type": "stream",
     "text": [
      "Stock price variation:-0.395008528593229\n",
      "The variation is within 5%\n",
      "No stock variation detected\n"
     ]
    }
   ],
   "source": [
    "main()"
   ]
  },
  {
   "cell_type": "code",
   "execution_count": null,
   "metadata": {},
   "outputs": [],
   "source": []
  }
 ],
 "metadata": {
  "kernelspec": {
   "display_name": "Python 3",
   "language": "python",
   "name": "python3"
  },
  "language_info": {
   "codemirror_mode": {
    "name": "ipython",
    "version": 3
   },
   "file_extension": ".py",
   "mimetype": "text/x-python",
   "name": "python",
   "nbconvert_exporter": "python",
   "pygments_lexer": "ipython3",
   "version": "3.12.3"
  }
 },
 "nbformat": 4,
 "nbformat_minor": 2
}
