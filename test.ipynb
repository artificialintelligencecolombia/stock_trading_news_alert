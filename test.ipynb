{
 "cells": [
  {
   "cell_type": "code",
   "execution_count": 1,
   "metadata": {},
   "outputs": [],
   "source": [
    "# Imports\n",
    "import os\n",
    "import requests\n",
    "import pandas as pd\n",
    "import datetime\n",
    "from twilio.rest import Client"
   ]
  },
  {
   "cell_type": "code",
   "execution_count": 2,
   "metadata": {},
   "outputs": [],
   "source": [
    "# GLOBAL API Setup\n",
    "ALPHA_API_KEY = os.environ.get('ALPHA_API_KEY')\n",
    "NEWS_API_KEY = os.environ.get('NEWS_API_KEY')\n",
    "TWILIO_ACCOUNT_SID = os.environ.get('TWILIO_ACCOUNT_SID')\n",
    "TWILIO_AUTH_TOKEN = os.environ.get('TWILIO_AUTH_TOKEN')\n",
    "FROM_WPP = os.environ.get('FROM_WPP')\n",
    "TO_WPP = os.environ.get('TO_WPP')\n",
    "ALPHA_URL = 'https://www.alphavantage.co/query?'\n",
    "NEWS_URL = 'https://newsapi.org/v2/everything'\n"
   ]
  },
  {
   "cell_type": "code",
   "execution_count": 3,
   "metadata": {},
   "outputs": [],
   "source": [
    "\n",
    "# Stock variation calculation\n",
    "def get_stock_variation(stock_symbol: str) -> bool:\n",
    "    \"\"\"Fetch stock variation percentage from the Alpha Vange API and check if it exceeds 5%.\"\"\"\n",
    "    alpha_params = {\n",
    "        'function': 'TIME_SERIES_DAILY',\n",
    "        'symbol': stock_symbol.upper(),\n",
    "        'apikey': ALPHA_API_KEY\n",
    "    }\n",
    "    \n",
    "    \n",
    "    \n",
    "    response = requests.get(ALPHA_URL, params=alpha_params)\n",
    "    response.raise_for_status()\n",
    "    raw_data = response.json()\n",
    "    print(raw_data)\n",
    "    data = raw_data[\"Time Series (Daily)\"]\n",
    "    #print(data)\n",
    "    \n",
    "    dates = sorted(data.keys(), reverse=True) # Get sorted available dates from API\n",
    "    print(dates)\n",
    "    \n",
    "    try:\n",
    "        yesterday_date = dates[0]\n",
    "        two_days_ago_date = dates[1]\n",
    "    except IndexError:\n",
    "        print(\"Not enough data to calculate stock variation\")\n",
    "        return False\n",
    "    \n",
    "    # Fetch close prices\n",
    "    yesterday_close = float(data[yesterday_date][\"4. close\"])\n",
    "    two_days_close = float(data[two_days_ago_date][\"4. close\"])\n",
    "    \n",
    "    percentage_difference = (yesterday_close - two_days_close) / two_days_close * 100\n",
    "    print(f'Stock price variation:{percentage_difference}')\n",
    "    \n",
    "    if abs(percentage_difference) >= 5:\n",
    "        print(\"The variation is more than 5%\")\n",
    "        return True\n",
    "    else:\n",
    "        print(\"The variation is within 5%\")\n",
    "        return False"
   ]
  },
  {
   "cell_type": "code",
   "execution_count": 4,
   "metadata": {},
   "outputs": [],
   "source": [
    "# Fetch news articles\n",
    "def get_news(query) -> list:\n",
    "    \"\"\"Retrieve top 3 news articles based on the query.\"\"\"\n",
    "    \n",
    "    yesterday_date = datetime.datetime.now() - datetime.timedelta(days=1)\n",
    "    news_params = {\n",
    "        'apiKey': os.environ.get('NEWS_API_KEY'),\n",
    "        'q': query,\n",
    "        'from': yesterday_date,\n",
    "        'language': 'en',\n",
    "        'sortBy':'relevancy'\n",
    "    }\n",
    "    \n",
    "    response = requests.get(NEWS_URL, news_params)\n",
    "    response.raise_for_status()\n",
    "    data = response.json() # o: python dict\n",
    "    # print(data)\n",
    "    # print(type(data))\n",
    "\n",
    "    return data['articles'][0:3]"
   ]
  },
  {
   "cell_type": "code",
   "execution_count": 5,
   "metadata": {},
   "outputs": [],
   "source": [
    "# Send wpp message\n",
    "def set_wpp_message(message):\n",
    "    \"\"\"Send a WhatsApp message using Twilio.\"\"\"\n",
    "    client = Client(TWILIO_ACCOUNT_SID, TWILIO_AUTH_TOKEN)\n",
    "    msn = client.messages.create( \n",
    "        body=message,\n",
    "        from_=FROM_WPP,\n",
    "        to=TO_WPP,\n",
    "        )\n",
    "    return msn.status"
   ]
  },
  {
   "cell_type": "code",
   "execution_count": 6,
   "metadata": {},
   "outputs": [
    {
     "name": "stdout",
     "output_type": "stream",
     "text": [
      "{'Meta Data': {'1. Information': 'Daily Prices (open, high, low, close) and Volumes', '2. Symbol': 'AAPL', '3. Last Refreshed': '2025-01-27', '4. Output Size': 'Compact', '5. Time Zone': 'US/Eastern'}, 'Time Series (Daily)': {'2025-01-27': {'1. open': '224.0200', '2. high': '232.1500', '3. low': '223.9800', '4. close': '229.8600', '5. volume': '94863418'}, '2025-01-24': {'1. open': '224.7800', '2. high': '225.6300', '3. low': '221.4100', '4. close': '222.7800', '5. volume': '54697907'}, '2025-01-23': {'1. open': '224.7400', '2. high': '227.0300', '3. low': '222.3000', '4. close': '223.6600', '5. volume': '60234760'}, '2025-01-22': {'1. open': '219.7900', '2. high': '224.1200', '3. low': '219.7900', '4. close': '223.8300', '5. volume': '64126500'}, '2025-01-21': {'1. open': '224.0000', '2. high': '224.4200', '3. low': '219.3800', '4. close': '222.6400', '5. volume': '98070429'}, '2025-01-17': {'1. open': '232.1150', '2. high': '232.2900', '3. low': '228.4800', '4. close': '229.9800', '5. volume': '68488301'}, '2025-01-16': {'1. open': '237.3500', '2. high': '238.0100', '3. low': '228.0300', '4. close': '228.2600', '5. volume': '71759052'}, '2025-01-15': {'1. open': '234.6350', '2. high': '238.9600', '3. low': '234.4300', '4. close': '237.8700', '5. volume': '39831969'}, '2025-01-14': {'1. open': '234.7500', '2. high': '236.1200', '3. low': '232.4720', '4. close': '233.2800', '5. volume': '39435294'}, '2025-01-13': {'1. open': '233.5300', '2. high': '234.6700', '3. low': '229.7200', '4. close': '234.4000', '5. volume': '49630725'}, '2025-01-10': {'1. open': '240.0100', '2. high': '240.1600', '3. low': '233.0000', '4. close': '236.8500', '5. volume': '61710856'}, '2025-01-08': {'1. open': '241.9200', '2. high': '243.7123', '3. low': '240.0500', '4. close': '242.7000', '5. volume': '37628940'}, '2025-01-07': {'1. open': '242.9800', '2. high': '245.5500', '3. low': '241.3500', '4. close': '242.2100', '5. volume': '40855960'}, '2025-01-06': {'1. open': '244.3100', '2. high': '247.3300', '3. low': '243.2000', '4. close': '245.0000', '5. volume': '45045571'}, '2025-01-03': {'1. open': '243.3600', '2. high': '244.1800', '3. low': '241.8900', '4. close': '243.3600', '5. volume': '40244114'}, '2025-01-02': {'1. open': '248.9300', '2. high': '249.1000', '3. low': '241.8201', '4. close': '243.8500', '5. volume': '55740731'}, '2024-12-31': {'1. open': '252.4400', '2. high': '253.2800', '3. low': '249.4300', '4. close': '250.4200', '5. volume': '39480718'}, '2024-12-30': {'1. open': '252.2300', '2. high': '253.5000', '3. low': '250.7500', '4. close': '252.2000', '5. volume': '35557542'}, '2024-12-27': {'1. open': '257.8300', '2. high': '258.7000', '3. low': '253.0600', '4. close': '255.5900', '5. volume': '42355321'}, '2024-12-26': {'1. open': '258.1900', '2. high': '260.1000', '3. low': '257.6300', '4. close': '259.0200', '5. volume': '27262983'}, '2024-12-24': {'1. open': '255.4900', '2. high': '258.2100', '3. low': '255.2900', '4. close': '258.2000', '5. volume': '23234705'}, '2024-12-23': {'1. open': '254.7700', '2. high': '255.6500', '3. low': '253.4500', '4. close': '255.2700', '5. volume': '40858774'}, '2024-12-20': {'1. open': '248.0400', '2. high': '255.0000', '3. low': '245.6900', '4. close': '254.4900', '5. volume': '147495267'}, '2024-12-19': {'1. open': '247.5000', '2. high': '252.0000', '3. low': '247.0949', '4. close': '249.7900', '5. volume': '60882264'}, '2024-12-18': {'1. open': '252.1600', '2. high': '254.2800', '3. low': '247.7400', '4. close': '248.0500', '5. volume': '56774101'}, '2024-12-17': {'1. open': '250.0800', '2. high': '253.8300', '3. low': '249.7800', '4. close': '253.4800', '5. volume': '51356360'}, '2024-12-16': {'1. open': '247.9900', '2. high': '251.3800', '3. low': '247.6500', '4. close': '251.0400', '5. volume': '51694753'}, '2024-12-13': {'1. open': '247.8150', '2. high': '249.2902', '3. low': '246.2400', '4. close': '248.1300', '5. volume': '33155290'}, '2024-12-12': {'1. open': '246.8900', '2. high': '248.7400', '3. low': '245.6800', '4. close': '247.9600', '5. volume': '32777532'}, '2024-12-11': {'1. open': '247.9600', '2. high': '250.8000', '3. low': '246.2601', '4. close': '246.4900', '5. volume': '45205814'}, '2024-12-10': {'1. open': '246.8900', '2. high': '248.2100', '3. low': '245.3400', '4. close': '247.7700', '5. volume': '36914806'}, '2024-12-09': {'1. open': '241.8300', '2. high': '247.2400', '3. low': '241.7500', '4. close': '246.7500', '5. volume': '44649232'}, '2024-12-06': {'1. open': '242.9050', '2. high': '244.6300', '3. low': '242.0800', '4. close': '242.8400', '5. volume': '36870619'}, '2024-12-05': {'1. open': '243.9900', '2. high': '244.5400', '3. low': '242.1300', '4. close': '243.0400', '5. volume': '40033878'}, '2024-12-04': {'1. open': '242.8700', '2. high': '244.1100', '3. low': '241.2500', '4. close': '243.0100', '5. volume': '44383935'}, '2024-12-03': {'1. open': '239.8100', '2. high': '242.7600', '3. low': '238.9000', '4. close': '242.6500', '5. volume': '38861017'}, '2024-12-02': {'1. open': '237.2700', '2. high': '240.7900', '3. low': '237.1600', '4. close': '239.5900', '5. volume': '48137103'}, '2024-11-29': {'1. open': '234.8100', '2. high': '237.8100', '3. low': '233.9700', '4. close': '237.3300', '5. volume': '28481377'}, '2024-11-27': {'1. open': '234.4650', '2. high': '235.6900', '3. low': '233.8101', '4. close': '234.9300', '5. volume': '33498439'}, '2024-11-26': {'1. open': '233.3300', '2. high': '235.5700', '3. low': '233.3300', '4. close': '235.0600', '5. volume': '45986189'}, '2024-11-25': {'1. open': '231.4600', '2. high': '233.2450', '3. low': '229.7400', '4. close': '232.8700', '5. volume': '90152832'}, '2024-11-22': {'1. open': '228.0600', '2. high': '230.7199', '3. low': '228.0600', '4. close': '229.8700', '5. volume': '38168252'}, '2024-11-21': {'1. open': '228.8800', '2. high': '230.1550', '3. low': '225.7103', '4. close': '228.5200', '5. volume': '42108327'}, '2024-11-20': {'1. open': '228.0600', '2. high': '229.9300', '3. low': '225.8900', '4. close': '229.0000', '5. volume': '35169566'}, '2024-11-19': {'1. open': '226.9800', '2. high': '230.1600', '3. low': '226.6600', '4. close': '228.2800', '5. volume': '36211774'}, '2024-11-18': {'1. open': '225.2500', '2. high': '229.7400', '3. low': '225.1700', '4. close': '228.0200', '5. volume': '44686020'}, '2024-11-15': {'1. open': '226.4000', '2. high': '226.9200', '3. low': '224.2700', '4. close': '225.0000', '5. volume': '47923696'}, '2024-11-14': {'1. open': '225.0200', '2. high': '228.8700', '3. low': '225.0000', '4. close': '228.2200', '5. volume': '44923941'}, '2024-11-13': {'1. open': '224.0100', '2. high': '226.6500', '3. low': '222.7600', '4. close': '225.1200', '5. volume': '48566217'}, '2024-11-12': {'1. open': '224.5500', '2. high': '225.5900', '3. low': '223.3550', '4. close': '224.2300', '5. volume': '40398299'}, '2024-11-11': {'1. open': '225.0000', '2. high': '225.7000', '3. low': '221.5000', '4. close': '224.2300', '5. volume': '42005602'}, '2024-11-08': {'1. open': '227.1700', '2. high': '228.6600', '3. low': '226.4050', '4. close': '226.9600', '5. volume': '38328824'}, '2024-11-07': {'1. open': '224.6250', '2. high': '227.8750', '3. low': '224.5700', '4. close': '227.4800', '5. volume': '42137691'}, '2024-11-06': {'1. open': '222.6100', '2. high': '226.0650', '3. low': '221.1900', '4. close': '222.7200', '5. volume': '54561121'}, '2024-11-05': {'1. open': '221.7950', '2. high': '223.9500', '3. low': '221.1400', '4. close': '223.4500', '5. volume': '28111338'}, '2024-11-04': {'1. open': '220.9900', '2. high': '222.7900', '3. low': '219.7100', '4. close': '222.0100', '5. volume': '44944468'}, '2024-11-01': {'1. open': '220.9650', '2. high': '225.3500', '3. low': '220.2700', '4. close': '222.9100', '5. volume': '65276741'}, '2024-10-31': {'1. open': '229.3400', '2. high': '229.8300', '3. low': '225.3700', '4. close': '225.9100', '5. volume': '64370086'}, '2024-10-30': {'1. open': '232.6100', '2. high': '233.4700', '3. low': '229.5500', '4. close': '230.1000', '5. volume': '47070907'}, '2024-10-29': {'1. open': '233.1000', '2. high': '234.3250', '3. low': '232.3200', '4. close': '233.6700', '5. volume': '35417247'}, '2024-10-28': {'1. open': '233.3200', '2. high': '234.7300', '3. low': '232.5500', '4. close': '233.4000', '5. volume': '36087134'}, '2024-10-25': {'1. open': '229.7400', '2. high': '233.2200', '3. low': '229.5700', '4. close': '231.4100', '5. volume': '38802304'}, '2024-10-24': {'1. open': '229.9800', '2. high': '230.8200', '3. low': '228.4100', '4. close': '230.5700', '5. volume': '31109503'}, '2024-10-23': {'1. open': '234.0800', '2. high': '235.1440', '3. low': '227.7600', '4. close': '230.7600', '5. volume': '52286979'}, '2024-10-22': {'1. open': '233.8850', '2. high': '236.2200', '3. low': '232.6000', '4. close': '235.8600', '5. volume': '38846578'}, '2024-10-21': {'1. open': '234.4500', '2. high': '236.8500', '3. low': '234.4500', '4. close': '236.4800', '5. volume': '36254470'}, '2024-10-18': {'1. open': '236.1800', '2. high': '236.1800', '3. low': '234.0100', '4. close': '235.0000', '5. volume': '46431472'}, '2024-10-17': {'1. open': '233.4300', '2. high': '233.8500', '3. low': '230.5200', '4. close': '232.1500', '5. volume': '32993810'}, '2024-10-16': {'1. open': '231.6000', '2. high': '232.1200', '3. low': '229.8400', '4. close': '231.7800', '5. volume': '34082240'}, '2024-10-15': {'1. open': '233.6100', '2. high': '237.4900', '3. low': '232.3700', '4. close': '233.8500', '5. volume': '64751367'}, '2024-10-14': {'1. open': '228.7000', '2. high': '231.7300', '3. low': '228.6000', '4. close': '231.3000', '5. volume': '39882085'}, '2024-10-11': {'1. open': '229.3000', '2. high': '229.4100', '3. low': '227.3400', '4. close': '227.5500', '5. volume': '31759188'}, '2024-10-10': {'1. open': '227.7800', '2. high': '229.5000', '3. low': '227.1700', '4. close': '229.0400', '5. volume': '28183544'}, '2024-10-09': {'1. open': '225.2300', '2. high': '229.7500', '3. low': '224.8300', '4. close': '229.5400', '5. volume': '33591091'}, '2024-10-08': {'1. open': '224.3000', '2. high': '225.9800', '3. low': '223.2500', '4. close': '225.7700', '5. volume': '31855693'}, '2024-10-07': {'1. open': '224.5000', '2. high': '225.6900', '3. low': '221.3300', '4. close': '221.6900', '5. volume': '39505354'}, '2024-10-04': {'1. open': '227.9000', '2. high': '228.0000', '3. low': '224.1300', '4. close': '226.8000', '5. volume': '37345098'}, '2024-10-03': {'1. open': '225.1400', '2. high': '226.8050', '3. low': '223.3200', '4. close': '225.6700', '5. volume': '34044158'}, '2024-10-02': {'1. open': '225.8900', '2. high': '227.3700', '3. low': '223.0200', '4. close': '226.7800', '5. volume': '32880605'}, '2024-10-01': {'1. open': '229.5200', '2. high': '229.6500', '3. low': '223.7400', '4. close': '226.2100', '5. volume': '63285048'}, '2024-09-30': {'1. open': '230.0400', '2. high': '233.0000', '3. low': '229.6500', '4. close': '233.0000', '5. volume': '54793391'}, '2024-09-27': {'1. open': '228.4600', '2. high': '229.5200', '3. low': '227.3000', '4. close': '227.7900', '5. volume': '34025967'}, '2024-09-26': {'1. open': '227.3000', '2. high': '228.5000', '3. low': '225.4100', '4. close': '227.5200', '5. volume': '36636707'}, '2024-09-25': {'1. open': '224.9300', '2. high': '227.2900', '3. low': '224.0200', '4. close': '226.3700', '5. volume': '42308715'}, '2024-09-24': {'1. open': '228.6450', '2. high': '229.3500', '3. low': '225.7300', '4. close': '227.3700', '5. volume': '43556068'}, '2024-09-23': {'1. open': '227.3400', '2. high': '229.4500', '3. low': '225.8100', '4. close': '226.4700', '5. volume': '54146023'}, '2024-09-20': {'1. open': '229.9700', '2. high': '233.0900', '3. low': '227.6200', '4. close': '228.2000', '5. volume': '318679888'}, '2024-09-19': {'1. open': '224.9900', '2. high': '229.8200', '3. low': '224.6300', '4. close': '228.8700', '5. volume': '66781315'}, '2024-09-18': {'1. open': '217.5500', '2. high': '222.7100', '3. low': '217.5400', '4. close': '220.6900', '5. volume': '59894928'}, '2024-09-17': {'1. open': '215.7500', '2. high': '216.9000', '3. low': '214.5000', '4. close': '216.7900', '5. volume': '45519339'}, '2024-09-16': {'1. open': '216.5400', '2. high': '217.2200', '3. low': '213.9200', '4. close': '216.3200', '5. volume': '59357427'}, '2024-09-13': {'1. open': '223.5800', '2. high': '224.0400', '3. low': '221.9100', '4. close': '222.5000', '5. volume': '36766619'}, '2024-09-12': {'1. open': '222.5000', '2. high': '223.5500', '3. low': '219.8200', '4. close': '222.7700', '5. volume': '37498225'}, '2024-09-11': {'1. open': '221.4550', '2. high': '223.0900', '3. low': '217.8900', '4. close': '222.6600', '5. volume': '44587072'}, '2024-09-10': {'1. open': '218.9200', '2. high': '221.4800', '3. low': '216.7300', '4. close': '220.1100', '5. volume': '51591033'}, '2024-09-09': {'1. open': '220.8200', '2. high': '221.2700', '3. low': '216.7100', '4. close': '220.9100', '5. volume': '67179965'}, '2024-09-06': {'1. open': '223.9500', '2. high': '225.2400', '3. low': '219.7700', '4. close': '220.8200', '5. volume': '48423011'}, '2024-09-05': {'1. open': '221.6250', '2. high': '225.4800', '3. low': '221.5200', '4. close': '222.3800', '5. volume': '36615398'}, '2024-09-04': {'1. open': '221.6600', '2. high': '221.7800', '3. low': '217.4800', '4. close': '220.8500', '5. volume': '43262758'}, '2024-09-03': {'1. open': '228.5500', '2. high': '229.0000', '3. low': '221.1700', '4. close': '222.7700', '5. volume': '50190574'}}}\n",
      "['2025-01-27', '2025-01-24', '2025-01-23', '2025-01-22', '2025-01-21', '2025-01-17', '2025-01-16', '2025-01-15', '2025-01-14', '2025-01-13', '2025-01-10', '2025-01-08', '2025-01-07', '2025-01-06', '2025-01-03', '2025-01-02', '2024-12-31', '2024-12-30', '2024-12-27', '2024-12-26', '2024-12-24', '2024-12-23', '2024-12-20', '2024-12-19', '2024-12-18', '2024-12-17', '2024-12-16', '2024-12-13', '2024-12-12', '2024-12-11', '2024-12-10', '2024-12-09', '2024-12-06', '2024-12-05', '2024-12-04', '2024-12-03', '2024-12-02', '2024-11-29', '2024-11-27', '2024-11-26', '2024-11-25', '2024-11-22', '2024-11-21', '2024-11-20', '2024-11-19', '2024-11-18', '2024-11-15', '2024-11-14', '2024-11-13', '2024-11-12', '2024-11-11', '2024-11-08', '2024-11-07', '2024-11-06', '2024-11-05', '2024-11-04', '2024-11-01', '2024-10-31', '2024-10-30', '2024-10-29', '2024-10-28', '2024-10-25', '2024-10-24', '2024-10-23', '2024-10-22', '2024-10-21', '2024-10-18', '2024-10-17', '2024-10-16', '2024-10-15', '2024-10-14', '2024-10-11', '2024-10-10', '2024-10-09', '2024-10-08', '2024-10-07', '2024-10-04', '2024-10-03', '2024-10-02', '2024-10-01', '2024-09-30', '2024-09-27', '2024-09-26', '2024-09-25', '2024-09-24', '2024-09-23', '2024-09-20', '2024-09-19', '2024-09-18', '2024-09-17', '2024-09-16', '2024-09-13', '2024-09-12', '2024-09-11', '2024-09-10', '2024-09-09', '2024-09-06', '2024-09-05', '2024-09-04', '2024-09-03']\n",
      "Stock price variation:3.178023161863728\n",
      "The variation is within 5%\n",
      "False\n",
      "[{'source': {'id': None, 'name': 'Windows Central'}, 'author': 'kevinokemwa@outlook.com (Kevin Okemwa)', 'title': \"Veteran PM Kim Vorrath reportedly joins Apple’s new AI division to whip “AI and Siri into shape” — amid claims Apple Intelligence is 2 years behind OpenAI’s ChatGPT and Microsoft's Copilot\", 'description': \"Can Apple catch up? That's the question insiders are asking today, as a recent leak details how the firm is moving veteran staff around to try and help Siri catch up to ChatGPT and Microsoft Copilot.\", 'url': 'https://www.windowscentral.com/microsoft/veteran-project-manager-kim-vorrath-reportedly-joins-apples-new-ai-division-to-whip-ai-and-siri-into-shape-amid-claims-apple-intelligence-is-2-years-behind-openais-chatgpt', 'urlToImage': 'https://cdn.mos.cms.futurecdn.net/6kgLiakHfLNYvZDtvm6U9D-1200-80.jpg', 'publishedAt': '2025-01-27T08:27:19Z', 'content': 'Every major tech corporation is seemingly rushing to chase the buzzing AI bubble. Microsoft, Google, and Anthropic are arguably among the top players in the landscape with the Redmond giant showing g… [+2492 chars]'}, {'source': {'id': None, 'name': 'Slate Magazine'}, 'author': 'Zak Rosen, Jamilah Lemieux, and Elizabeth Newcamp', 'title': 'Should We Fight In Front Of the Kids?', 'description': 'Plus: RVs, a long break, and securing the duck.', 'url': 'https://slate.com/podcasts/care-and-feeding/2025/01/fighting-parents-slates-parenting-podcast', 'urlToImage': 'https://compote.slate.com/images/dedc67f4-d7a9-4344-814b-d6a49606890a.jpeg?crop=1457%2C971%2Cx0%2Cy2&width=1560', 'publishedAt': '2025-01-27T08:10:00Z', 'content': 'On this episode: Zak, Elizabeth and Jamilah talk about what to do when youre arguing with your partner but you have to do it in front of the kids. Well talk about how to model healthy disagreement an… [+1120 chars]'}, {'source': {'id': None, 'name': 'Android Authority'}, 'author': 'Mahmoud Itani', 'title': 'Are single-camera Android mid-rangers about to make a comeback, thanks to Apple?', 'description': 'New iPhone SE 4 dummy model leak potentially confirms the budget phone’s design specifications, including a single rear camera.', 'url': 'https://www.androidauthority.com/iphone-se-4-leak-reveals-design-3520311/', 'urlToImage': 'https://www.androidauthority.com/wp-content/uploads/2023/05/google-pixel-7a-vs-iphone-se-2022-back-in-hand.jpg', 'publishedAt': '2025-01-27T10:15:39Z', 'content': '<ul><li>A leaker has posted more photos and a video of two iPhone SE 4 dummy models, potentially confirming its design.</li><li>Despite possibly featuring a modern look and flagship chip, the budget … [+2236 chars]'}]\n"
     ]
    }
   ],
   "source": [
    "# TEST\n",
    "stock_price_variation = get_stock_variation(\"AAPL\")\n",
    "print(stock_price_variation)\n",
    "news = get_news(\"apple\")\n",
    "print(news)\n",
    "message= \"testing MESSAGE. From: test.\"\n",
    "msn = set_wpp_message(message)"
   ]
  },
  {
   "cell_type": "code",
   "execution_count": 10,
   "metadata": {},
   "outputs": [],
   "source": [
    "def main():\n",
    "    stock_price_variation = get_stock_variation(\"NVDA\")\n",
    "    topic= \"Nvidia\"\n",
    "    news = get_news(topic)\n",
    "    if stock_price_variation:\n",
    "        print(\"Stock variation detected. Fetching news articles...\")\n",
    "        print(news)\n",
    "        #for article in news:\n",
    "        #    message = f\"Headline: {article['title']}\\nBrief: {article['description']}\\nLink: {article['url']}\"\n",
    "        #    set_wpp_message(message)\n",
    "        #    print(f\"Message sent: {message}\")\n",
    "    else:\n",
    "        print(\"No stock variation detected\")\n",
    "        #print(news)\n",
    "        #message = f\"Headline: {article['title']}\\nBrief: {article['description']}\\nLink: {article['url']}\"\n",
    "        #set_wpp_message(message)\n",
    "        #print(f\"Message sent: {message}\")\n",
    "        \n",
    "        "
   ]
  },
  {
   "cell_type": "code",
   "execution_count": 11,
   "metadata": {},
   "outputs": [
    {
     "name": "stdout",
     "output_type": "stream",
     "text": [
      "{'Meta Data': {'1. Information': 'Daily Prices (open, high, low, close) and Volumes', '2. Symbol': 'NVDA', '3. Last Refreshed': '2025-01-27', '4. Output Size': 'Compact', '5. Time Zone': 'US/Eastern'}, 'Time Series (Daily)': {'2025-01-27': {'1. open': '124.8000', '2. high': '128.4000', '3. low': '116.7000', '4. close': '118.4200', '5. volume': '818830895'}, '2025-01-24': {'1. open': '148.3700', '2. high': '148.9700', '3. low': '141.8800', '4. close': '142.6200', '5. volume': '234657635'}, '2025-01-23': {'1. open': '145.0500', '2. high': '147.2300', '3. low': '143.7200', '4. close': '147.2200', '5. volume': '155915549'}, '2025-01-22': {'1. open': '144.6600', '2. high': '147.7900', '3. low': '143.6700', '4. close': '147.0700', '5. volume': '237651395'}, '2025-01-21': {'1. open': '139.1600', '2. high': '141.8300', '3. low': '137.0900', '4. close': '140.8300', '5. volume': '197748985'}, '2025-01-17': {'1. open': '136.6900', '2. high': '138.5000', '3. low': '135.4649', '4. close': '137.7100', '5. volume': '201188760'}, '2025-01-16': {'1. open': '138.6400', '2. high': '138.7500', '3. low': '133.4900', '4. close': '133.5700', '5. volume': '209235583'}, '2025-01-15': {'1. open': '133.6500', '2. high': '136.4500', '3. low': '131.2900', '4. close': '136.2400', '5. volume': '185217338'}, '2025-01-14': {'1. open': '136.0500', '2. high': '136.3800', '3. low': '130.0500', '4. close': '131.7600', '5. volume': '195590485'}, '2025-01-13': {'1. open': '129.9900', '2. high': '133.4900', '3. low': '129.5100', '4. close': '133.2300', '5. volume': '204808914'}, '2025-01-10': {'1. open': '137.4500', '2. high': '139.9200', '3. low': '134.2200', '4. close': '135.9100', '5. volume': '207602514'}, '2025-01-08': {'1. open': '142.5800', '2. high': '143.9500', '3. low': '137.5600', '4. close': '140.1100', '5. volume': '227349948'}, '2025-01-07': {'1. open': '153.0300', '2. high': '153.1300', '3. low': '140.0100', '4. close': '140.1400', '5. volume': '351782174'}, '2025-01-06': {'1. open': '148.5900', '2. high': '152.1560', '3. low': '147.8201', '4. close': '149.4300', '5. volume': '265377359'}, '2025-01-03': {'1. open': '140.0100', '2. high': '144.9000', '3. low': '139.7300', '4. close': '144.4700', '5. volume': '229322478'}, '2025-01-02': {'1. open': '136.0000', '2. high': '138.8800', '3. low': '134.6300', '4. close': '138.3100', '5. volume': '198247166'}, '2024-12-31': {'1. open': '138.0300', '2. high': '138.0700', '3. low': '133.8300', '4. close': '134.2900', '5. volume': '155659211'}, '2024-12-30': {'1. open': '134.8300', '2. high': '140.2700', '3. low': '134.0200', '4. close': '137.4900', '5. volume': '167734700'}, '2024-12-27': {'1. open': '138.5500', '2. high': '139.0200', '3. low': '134.7100', '4. close': '137.0100', '5. volume': '170582603'}, '2024-12-26': {'1. open': '139.7000', '2. high': '140.8500', '3. low': '137.7300', '4. close': '139.9300', '5. volume': '116519090'}, '2024-12-24': {'1. open': '140.0000', '2. high': '141.9000', '3. low': '138.6500', '4. close': '140.2200', '5. volume': '105156989'}, '2024-12-23': {'1. open': '136.2800', '2. high': '139.7900', '3. low': '135.1201', '4. close': '139.6700', '5. volume': '176053506'}, '2024-12-20': {'1. open': '129.8100', '2. high': '135.2800', '3. low': '128.2200', '4. close': '134.7000', '5. volume': '306528553'}, '2024-12-19': {'1. open': '131.7600', '2. high': '134.0300', '3. low': '129.5500', '4. close': '130.6800', '5. volume': '209719210'}, '2024-12-18': {'1. open': '133.8600', '2. high': '136.7000', '3. low': '128.2800', '4. close': '128.9100', '5. volume': '277444533'}, '2024-12-17': {'1. open': '129.0900', '2. high': '131.5900', '3. low': '126.8600', '4. close': '130.3900', '5. volume': '259410263'}, '2024-12-16': {'1. open': '134.1800', '2. high': '134.4000', '3. low': '130.4200', '4. close': '132.0000', '5. volume': '237951130'}, '2024-12-13': {'1. open': '138.9400', '2. high': '139.6000', '3. low': '132.5400', '4. close': '134.2500', '5. volume': '231514881'}, '2024-12-12': {'1. open': '137.0800', '2. high': '138.4400', '3. low': '135.8000', '4. close': '137.3400', '5. volume': '159211393'}, '2024-12-11': {'1. open': '137.3600', '2. high': '140.1700', '3. low': '135.2100', '4. close': '139.3100', '5. volume': '184905192'}, '2024-12-10': {'1. open': '139.0100', '2. high': '141.8200', '3. low': '133.7900', '4. close': '135.0700', '5. volume': '210020888'}, '2024-12-09': {'1. open': '138.9700', '2. high': '139.9500', '3. low': '137.1300', '4. close': '138.8100', '5. volume': '189308625'}, '2024-12-06': {'1. open': '144.6000', '2. high': '145.7000', '3. low': '141.3100', '4. close': '142.4400', '5. volume': '188505573'}, '2024-12-05': {'1. open': '145.1100', '2. high': '146.5400', '3. low': '143.9500', '4. close': '145.0600', '5. volume': '172621180'}, '2024-12-04': {'1. open': '141.9950', '2. high': '145.7900', '3. low': '140.2900', '4. close': '145.1400', '5. volume': '231224295'}, '2024-12-03': {'1. open': '138.2600', '2. high': '140.5400', '3. low': '137.9500', '4. close': '140.2600', '5. volume': '164413965'}, '2024-12-02': {'1. open': '138.8300', '2. high': '140.4500', '3. low': '137.8250', '4. close': '138.6300', '5. volume': '171682777'}, '2024-11-29': {'1. open': '136.7800', '2. high': '139.3500', '3. low': '136.0500', '4. close': '138.2500', '5. volume': '141863156'}, '2024-11-27': {'1. open': '135.0100', '2. high': '137.2200', '3. low': '131.8000', '4. close': '135.3400', '5. volume': '226370912'}, '2024-11-26': {'1. open': '137.7000', '2. high': '139.3000', '3. low': '135.6700', '4. close': '136.9200', '5. volume': '190287654'}, '2024-11-25': {'1. open': '141.9900', '2. high': '142.0500', '3. low': '135.8200', '4. close': '136.0200', '5. volume': '344941875'}, '2024-11-22': {'1. open': '145.9300', '2. high': '147.1600', '3. low': '141.1000', '4. close': '141.9500', '5. volume': '236406154'}, '2024-11-21': {'1. open': '149.3500', '2. high': '152.8900', '3. low': '140.7000', '4. close': '146.6700', '5. volume': '400946570'}, '2024-11-20': {'1. open': '147.4100', '2. high': '147.5600', '3. low': '142.7300', '4. close': '145.8900', '5. volume': '309871654'}, '2024-11-19': {'1. open': '141.3200', '2. high': '147.1300', '3. low': '140.9900', '4. close': '147.0100', '5. volume': '227834912'}, '2024-11-18': {'1. open': '139.5000', '2. high': '141.5500', '3. low': '137.1500', '4. close': '140.1500', '5. volume': '221865993'}, '2024-11-15': {'1. open': '144.8700', '2. high': '145.2400', '3. low': '140.0800', '4. close': '141.9800', '5. volume': '250132869'}, '2024-11-14': {'1. open': '147.6400', '2. high': '149.0000', '3. low': '145.5500', '4. close': '146.7600', '5. volume': '194463301'}, '2024-11-13': {'1. open': '149.0700', '2. high': '149.3300', '3. low': '145.9000', '4. close': '146.2700', '5. volume': '191903267'}, '2024-11-12': {'1. open': '146.7800', '2. high': '149.6500', '3. low': '146.0100', '4. close': '148.2900', '5. volume': '198634738'}, '2024-11-11': {'1. open': '148.6800', '2. high': '148.8500', '3. low': '143.5700', '4. close': '145.2600', '5. volume': '182325620'}, '2024-11-08': {'1. open': '148.7700', '2. high': '149.7700', '3. low': '146.2600', '4. close': '147.6300', '5. volume': '175665830'}, '2024-11-07': {'1. open': '146.3900', '2. high': '148.9300', '3. low': '146.1700', '4. close': '148.8800', '5. volume': '207323303'}, '2024-11-06': {'1. open': '142.9600', '2. high': '146.4900', '3. low': '141.9600', '4. close': '145.6100', '5. volume': '242043945'}, '2024-11-05': {'1. open': '137.4500', '2. high': '140.3701', '3. low': '137.3300', '4. close': '139.9100', '5. volume': '160537373'}, '2024-11-04': {'1. open': '137.2100', '2. high': '138.9600', '3. low': '135.5700', '4. close': '136.0500', '5. volume': '187528173'}, '2024-11-01': {'1. open': '134.7000', '2. high': '137.3100', '3. low': '134.5700', '4. close': '135.4000', '5. volume': '207127838'}, '2024-10-31': {'1. open': '137.6000', '2. high': '137.6100', '3. low': '132.1106', '4. close': '132.7600', '5. volume': '270039641'}, '2024-10-30': {'1. open': '139.5400', '2. high': '140.3300', '3. low': '136.8100', '4. close': '139.3350', '5. volume': '179418082'}, '2024-10-29': {'1. open': '140.2850', '2. high': '142.2598', '3. low': '138.9000', '4. close': '141.2500', '5. volume': '157593634'}, '2024-10-28': {'1. open': '143.0000', '2. high': '143.1400', '3. low': '140.0500', '4. close': '140.5200', '5. volume': '173586745'}, '2024-10-25': {'1. open': '140.9300', '2. high': '144.1300', '3. low': '140.8000', '4. close': '141.5400', '5. volume': '205122109'}, '2024-10-24': {'1. open': '140.8200', '2. high': '141.3500', '3. low': '138.4600', '4. close': '140.4100', '5. volume': '172354888'}, '2024-10-23': {'1. open': '142.0300', '2. high': '142.4300', '3. low': '137.4600', '4. close': '139.5600', '5. volume': '285930038'}, '2024-10-22': {'1. open': '142.9100', '2. high': '144.4200', '3. low': '141.7800', '4. close': '143.5900', '5. volume': '226311589'}, '2024-10-21': {'1. open': '138.1300', '2. high': '143.7100', '3. low': '138.0000', '4. close': '143.7100', '5. volume': '264554514'}, '2024-10-18': {'1. open': '138.6650', '2. high': '138.9000', '3. low': '137.2800', '4. close': '138.0000', '5. volume': '176090184'}, '2024-10-17': {'1. open': '139.3400', '2. high': '140.8900', '3. low': '136.8700', '4. close': '136.9300', '5. volume': '306435921'}, '2024-10-16': {'1. open': '133.9800', '2. high': '136.6200', '3. low': '131.5800', '4. close': '135.7200', '5. volume': '264879720'}, '2024-10-15': {'1. open': '137.8700', '2. high': '138.5700', '3. low': '128.7400', '4. close': '131.6000', '5. volume': '377831021'}, '2024-10-14': {'1. open': '136.4700', '2. high': '139.6000', '3. low': '136.3000', '4. close': '138.0700', '5. volume': '232347668'}, '2024-10-11': {'1. open': '134.0100', '2. high': '135.7800', '3. low': '133.6600', '4. close': '134.8000', '5. volume': '170209474'}, '2024-10-10': {'1. open': '131.9100', '2. high': '135.0000', '3. low': '131.0000', '4. close': '134.8100', '5. volume': '242311337'}, '2024-10-09': {'1. open': '134.1100', '2. high': '134.5200', '3. low': '131.3800', '4. close': '132.6500', '5. volume': '246191612'}, '2024-10-08': {'1. open': '130.2600', '2. high': '133.4800', '3. low': '129.4200', '4. close': '132.8900', '5. volume': '285722485'}, '2024-10-07': {'1. open': '124.9900', '2. high': '130.6400', '3. low': '124.9500', '4. close': '127.7200', '5. volume': '346250233'}, '2024-10-04': {'1. open': '124.9400', '2. high': '125.0400', '3. low': '121.8300', '4. close': '124.9200', '5. volume': '244465552'}, '2024-10-03': {'1. open': '120.9200', '2. high': '124.3600', '3. low': '120.3401', '4. close': '122.8500', '5. volume': '277117973'}, '2024-10-02': {'1. open': '116.4400', '2. high': '119.3800', '3. low': '115.1400', '4. close': '118.8500', '5. volume': '221845887'}, '2024-10-01': {'1. open': '121.7650', '2. high': '122.4351', '3. low': '115.7900', '4. close': '117.0000', '5. volume': '302094485'}, '2024-09-30': {'1. open': '118.3100', '2. high': '121.5000', '3. low': '118.1500', '4. close': '121.4400', '5. volume': '227053651'}, '2024-09-27': {'1. open': '123.9700', '2. high': '124.0300', '3. low': '119.2600', '4. close': '121.4000', '5. volume': '271009175'}, '2024-09-26': {'1. open': '126.8000', '2. high': '127.6650', '3. low': '121.8000', '4. close': '124.0400', '5. volume': '302582868'}, '2024-09-25': {'1. open': '122.0200', '2. high': '124.9400', '3. low': '121.6100', '4. close': '123.5100', '5. volume': '284692948'}, '2024-09-24': {'1. open': '116.5150', '2. high': '121.8000', '3. low': '115.3800', '4. close': '120.8700', '5. volume': '354966772'}, '2024-09-23': {'1. open': '116.5500', '2. high': '116.9900', '3. low': '114.8600', '4. close': '116.2600', '5. volume': '206228490'}, '2024-09-20': {'1. open': '117.0600', '2. high': '118.6181', '3. low': '115.3901', '4. close': '116.0000', '5. volume': '382462428'}, '2024-09-19': {'1. open': '117.3500', '2. high': '119.6600', '3. low': '117.2500', '4. close': '117.8700', '5. volume': '293506438'}, '2024-09-18': {'1. open': '115.8900', '2. high': '117.7000', '3. low': '113.2200', '4. close': '113.3700', '5. volume': '310318937'}, '2024-09-17': {'1. open': '118.1700', '2. high': '118.8000', '3. low': '114.8300', '4. close': '115.5900', '5. volume': '231925876'}, '2024-09-16': {'1. open': '116.7900', '2. high': '118.1800', '3. low': '114.3600', '4. close': '116.7800', '5. volume': '248772308'}, '2024-09-13': {'1. open': '119.0800', '2. high': '119.9550', '3. low': '117.6000', '4. close': '119.1000', '5. volume': '238358328'}, '2024-09-12': {'1. open': '116.8400', '2. high': '120.7900', '3. low': '115.3800', '4. close': '119.1400', '5. volume': '367100496'}, '2024-09-11': {'1. open': '109.3900', '2. high': '117.1900', '3. low': '107.4200', '4. close': '116.9100', '5. volume': '441422370'}, '2024-09-10': {'1. open': '107.8100', '2. high': '109.4000', '3. low': '104.9500', '4. close': '108.1000', '5. volume': '268283736'}, '2024-09-09': {'1. open': '104.8800', '2. high': '106.5500', '3. low': '103.6900', '4. close': '106.4700', '5. volume': '273912015'}, '2024-09-06': {'1. open': '108.0400', '2. high': '108.1500', '3. low': '100.9500', '4. close': '102.8300', '5. volume': '413638098'}, '2024-09-05': {'1. open': '104.9850', '2. high': '109.6500', '3. low': '104.7600', '4. close': '107.2100', '5. volume': '306850696'}, '2024-09-04': {'1. open': '105.4100', '2. high': '113.2700', '3. low': '104.1200', '4. close': '106.2100', '5. volume': '368378810'}, '2024-09-03': {'1. open': '116.0100', '2. high': '116.2100', '3. low': '107.2900', '4. close': '108.0000', '5. volume': '477155100'}}}\n",
      "['2025-01-27', '2025-01-24', '2025-01-23', '2025-01-22', '2025-01-21', '2025-01-17', '2025-01-16', '2025-01-15', '2025-01-14', '2025-01-13', '2025-01-10', '2025-01-08', '2025-01-07', '2025-01-06', '2025-01-03', '2025-01-02', '2024-12-31', '2024-12-30', '2024-12-27', '2024-12-26', '2024-12-24', '2024-12-23', '2024-12-20', '2024-12-19', '2024-12-18', '2024-12-17', '2024-12-16', '2024-12-13', '2024-12-12', '2024-12-11', '2024-12-10', '2024-12-09', '2024-12-06', '2024-12-05', '2024-12-04', '2024-12-03', '2024-12-02', '2024-11-29', '2024-11-27', '2024-11-26', '2024-11-25', '2024-11-22', '2024-11-21', '2024-11-20', '2024-11-19', '2024-11-18', '2024-11-15', '2024-11-14', '2024-11-13', '2024-11-12', '2024-11-11', '2024-11-08', '2024-11-07', '2024-11-06', '2024-11-05', '2024-11-04', '2024-11-01', '2024-10-31', '2024-10-30', '2024-10-29', '2024-10-28', '2024-10-25', '2024-10-24', '2024-10-23', '2024-10-22', '2024-10-21', '2024-10-18', '2024-10-17', '2024-10-16', '2024-10-15', '2024-10-14', '2024-10-11', '2024-10-10', '2024-10-09', '2024-10-08', '2024-10-07', '2024-10-04', '2024-10-03', '2024-10-02', '2024-10-01', '2024-09-30', '2024-09-27', '2024-09-26', '2024-09-25', '2024-09-24', '2024-09-23', '2024-09-20', '2024-09-19', '2024-09-18', '2024-09-17', '2024-09-16', '2024-09-13', '2024-09-12', '2024-09-11', '2024-09-10', '2024-09-09', '2024-09-06', '2024-09-05', '2024-09-04', '2024-09-03']\n",
      "Stock price variation:-16.96816715748142\n",
      "The variation is more than 5%\n",
      "Stock variation detected. Fetching news articles...\n",
      "[{'source': {'id': None, 'name': 'Yahoo Entertainment'}, 'author': 'Reuters', 'title': \"China's DeepSeek sets off AI market rout\", 'description': 'SINGAPORE (Reuters) -Nasdaq futures slumped and technology shares slid in Japan on Monday as surging popularity of a Chinese discount artificial intelligence...', 'url': 'https://finance.yahoo.com/news/chinas-deepseek-sets-off-ai-071458375.html', 'urlToImage': 'https://media.zenfs.com/en/reuters-finance.com/e2f802a4d28f65fa03f577bb84b7004b', 'publishedAt': '2025-01-27T07:14:58Z', 'content': \"SINGAPORE (Reuters) -Nasdaq futures slumped and technology shares slid in Japan on Monday as surging popularity of a Chinese discount artificial intelligence model wobbled investors' faith in the pro… [+2988 chars]\"}, {'source': {'id': None, 'name': 'MIT Technology Review'}, 'author': 'Peter Barrett', 'title': 'Useful quantum computing is inevitable—and increasingly imminent', 'description': 'On January 8, Nvidia CEO Jensen Huang jolted the stock market by saying that practical quantum computing is still 15 to 30 years away, at the same time suggesting those computers will need Nvidia GPUs in order to implement the necessary error correction.\\xa0 How…', 'url': 'https://www.technologyreview.com/2025/01/27/1110540/useful-quantum-computing-is-inevitable-and-increasingly-imminent/', 'urlToImage': 'https://wp.technologyreview.com/wp-content/uploads/2025/01/Wafer-Testing.jpg?resize=1200,600', 'publishedAt': '2025-01-27T10:00:00Z', 'content': 'And that means that we need quantum computers. They afford us the opportunity to shift from a world of discovery to a world of design. Todays iterative process of guessing, synthesizing, and testing … [+2288 chars]'}, {'source': {'id': None, 'name': 'Windows Central'}, 'author': 'kevinokemwa@outlook.com (Kevin Okemwa)', 'title': \"Veteran PM Kim Vorrath reportedly joins Apple’s new AI division to whip “AI and Siri into shape” — amid claims Apple Intelligence is 2 years behind OpenAI’s ChatGPT and Microsoft's Copilot\", 'description': \"Can Apple catch up? That's the question insiders are asking today, as a recent leak details how the firm is moving veteran staff around to try and help Siri catch up to ChatGPT and Microsoft Copilot.\", 'url': 'https://www.windowscentral.com/microsoft/veteran-project-manager-kim-vorrath-reportedly-joins-apples-new-ai-division-to-whip-ai-and-siri-into-shape-amid-claims-apple-intelligence-is-2-years-behind-openais-chatgpt', 'urlToImage': 'https://cdn.mos.cms.futurecdn.net/6kgLiakHfLNYvZDtvm6U9D-1200-80.jpg', 'publishedAt': '2025-01-27T08:27:19Z', 'content': 'Every major tech corporation is seemingly rushing to chase the buzzing AI bubble. Microsoft, Google, and Anthropic are arguably among the top players in the landscape with the Redmond giant showing g… [+2492 chars]'}]\n"
     ]
    }
   ],
   "source": [
    "main()"
   ]
  },
  {
   "cell_type": "code",
   "execution_count": null,
   "metadata": {},
   "outputs": [],
   "source": []
  }
 ],
 "metadata": {
  "kernelspec": {
   "display_name": "Python 3",
   "language": "python",
   "name": "python3"
  },
  "language_info": {
   "codemirror_mode": {
    "name": "ipython",
    "version": 3
   },
   "file_extension": ".py",
   "mimetype": "text/x-python",
   "name": "python",
   "nbconvert_exporter": "python",
   "pygments_lexer": "ipython3",
   "version": "3.12.3"
  }
 },
 "nbformat": 4,
 "nbformat_minor": 2
}
