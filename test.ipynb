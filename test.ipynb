{
 "cells": [
  {
   "cell_type": "code",
   "execution_count": 9,
   "metadata": {},
   "outputs": [],
   "source": [
    "# Imports\n",
    "import os\n",
    "import requests\n",
    "from dotenv import load_dotenv\n",
    "import pandas as pd\n",
    "import datetime\n",
    "from twilio.rest import Client"
   ]
  },
  {
   "cell_type": "code",
   "execution_count": 1,
   "metadata": {},
   "outputs": [
    {
     "ename": "NameError",
     "evalue": "name 'load_dotenv' is not defined",
     "output_type": "error",
     "traceback": [
      "\u001b[1;31m---------------------------------------------------------------------------\u001b[0m",
      "\u001b[1;31mNameError\u001b[0m                                 Traceback (most recent call last)",
      "Cell \u001b[1;32mIn[1], line 1\u001b[0m\n\u001b[1;32m----> 1\u001b[0m \u001b[43mload_dotenv\u001b[49m()\n\u001b[0;32m      3\u001b[0m \u001b[38;5;66;03m# GLOBAL API Setup\u001b[39;00m\n\u001b[0;32m      4\u001b[0m ALPHA_API_KEY \u001b[38;5;241m=\u001b[39m os\u001b[38;5;241m.\u001b[39menviron\u001b[38;5;241m.\u001b[39mget(\u001b[38;5;124m'\u001b[39m\u001b[38;5;124mALPHA_API_KEY\u001b[39m\u001b[38;5;124m'\u001b[39m)\n",
      "\u001b[1;31mNameError\u001b[0m: name 'load_dotenv' is not defined"
     ]
    }
   ],
   "source": [
    "load_dotenv()\n",
    "\n",
    "# GLOBAL API Setup\n",
    "ALPHA_API_KEY = os.environ.get('ALPHA_API_KEY')\n",
    "NEWS_API_KEY = os.environ.get('NEWS_API_KEY')\n",
    "TWILIO_ACCOUNT_SID = os.environ.get('TWILIO_ACCOUNT_SID')\n",
    "TWILIO_AUTH_TOKEN = os.environ.get('TWILIO_AUTH_TOKEN')\n",
    "FROM_WPP = os.environ.get('FROM_WPP')\n",
    "TO_WPP = os.environ.get('TO_WPP')\n",
    "ALPHA_URL = os.environ.get('ALPHA_URL')\n",
    "ALPHA_SYMBOL_SEARCH_URL = os.environ.get('ALPHA_SYMBOL_SEARCH_URL')\n",
    "NEWS_URL = os.environ.get('NEWS_URL')\n"
   ]
  },
  {
   "cell_type": "code",
   "execution_count": 13,
   "metadata": {},
   "outputs": [],
   "source": [
    "def get_symbol(keyword: str) -> tuple[str, str]:\n",
    "    url = ALPHA_SYMBOL_SEARCH_URL\n",
    "    params = {\n",
    "        'function': 'SYMBOL_SEARCH',\n",
    "        'keywords': keyword,\n",
    "        'apikey': ALPHA_API_KEY\n",
    "    }\n",
    "\n",
    "    response = requests.get(url, params=params)\n",
    "    response.raise_for_status()\n",
    "    print(f\"Response: {response}\")\n",
    "    print(f\"code: {response.status_code}\")\n",
    "    raw_data = response.json()\n",
    "    print(raw_data)\n",
    "    company_name = raw_data['bestMatches'][0]['2. name']\n",
    "    stock_symbol = raw_data['bestMatches'][0]['1. symbol']\n",
    "    \n",
    "    return company_name, stock_symbol"
   ]
  },
  {
   "cell_type": "code",
   "execution_count": null,
   "metadata": {},
   "outputs": [],
   "source": [
    "company_name, stock_symbol = get_symbol('Tesla')\n",
    "print(f\"Company Name: {company_name}\")\n",
    "print(f\"Stock Symbol: {stock_symbol}\")"
   ]
  },
  {
   "cell_type": "code",
   "execution_count": 4,
   "metadata": {},
   "outputs": [],
   "source": [
    "\n",
    "# Stock variation calculation\n",
    "def get_stock_variation(stock_symbol: str) -> bool:\n",
    "    \"\"\"Fetch stock variation percentage from the Alphavantage API and check if it exceeds 5%.\"\"\"\n",
    "    alpha_params = {\n",
    "        'function': 'TIME_SERIES_DAILY',\n",
    "        'symbol': stock_symbol.upper(),\n",
    "        'apikey': ALPHA_API_KEY\n",
    "    }\n",
    "    \n",
    "    response = requests.get(ALPHA_URL, params=alpha_params)\n",
    "    response.raise_for_status()\n",
    "    raw_data = response.json()\n",
    "    data = raw_data[\"Time Series (Daily)\"]\n",
    "    dates = sorted(data.keys(), reverse=True) # Get sorted available dates from API\n",
    "    \n",
    "    try:\n",
    "        yesterday_date = dates[0]\n",
    "        two_days_ago_date = dates[1]\n",
    "    except IndexError:\n",
    "        print(\"Not enough data to calculate stock variation\")\n",
    "        return False\n",
    "    \n",
    "    # Fetch close prices\n",
    "    yesterday_close = float(data[yesterday_date][\"4. close\"])\n",
    "    two_days_close = float(data[two_days_ago_date][\"4. close\"])\n",
    "    \n",
    "    percentage_difference = round(((yesterday_close - two_days_close) / two_days_close * 100),2)\n",
    "    print(f'Stock price variation:{percentage_difference}')\n",
    "    \n",
    "    if abs(percentage_difference) >= 1:\n",
    "        print(\"The variation is more than 1%\")\n",
    "        return True\n",
    "    else:\n",
    "        print(\"The variation is within 1%\")\n",
    "        return False"
   ]
  },
  {
   "cell_type": "code",
   "execution_count": 5,
   "metadata": {},
   "outputs": [],
   "source": [
    "# Fetch news articles\n",
    "def get_news(query,lang) -> list:\n",
    "    \"\"\"Retrieve top 3 news articles based on the query.\"\"\"\n",
    "    \n",
    "    yesterday_date = datetime.datetime.now() - datetime.timedelta(days=1)\n",
    "    news_params = {\n",
    "        'apiKey': os.environ.get('NEWS_API_KEY'),\n",
    "        'qInTitle': query,\n",
    "        'from': yesterday_date,\n",
    "        'language': lang,\n",
    "        'sortBy':'relevancy'\n",
    "    }\n",
    "    \n",
    "    response = requests.get(NEWS_URL, news_params)\n",
    "    response.raise_for_status()\n",
    "    data = response.json() # o: python dict\n",
    "    # print(data)\n",
    "    # print(type(data))\n",
    "\n",
    "    return data['articles'][0:3]"
   ]
  },
  {
   "cell_type": "code",
   "execution_count": 6,
   "metadata": {},
   "outputs": [],
   "source": [
    "# Send wpp message\n",
    "def send_wpp_message(message):\n",
    "    \"\"\"Send a WhatsApp message using Twilio.\"\"\"\n",
    "    client = Client(TWILIO_ACCOUNT_SID, TWILIO_AUTH_TOKEN)\n",
    "    msn = client.messages.create( \n",
    "        body=message,\n",
    "        from_=FROM_WPP,\n",
    "        to=TO_WPP,\n",
    "        )\n",
    "    return msn.status"
   ]
  },
  {
   "cell_type": "code",
   "execution_count": 7,
   "metadata": {},
   "outputs": [],
   "source": [
    "def main():\n",
    "    company_name, stock_symbol = get_symbol('Tesla')\n",
    "    language = 'en'\n",
    "    print(f\"Company Name: {company_name}\")\n",
    "    print(f\"Stock Symbol: {stock_symbol}\")\n",
    "    stock_price_variation = get_stock_variation(stock_symbol)\n",
    "    news = get_news(company_name, language)\n",
    "    if stock_price_variation:\n",
    "        print(\"Stock variation detected. Fetching news articles...\")\n",
    "        print(news)\n",
    "        \n",
    "        for article in news:\n",
    "            message = f\"Headline: {article['title']}\\nBrief: {article['description']}\\nLink: {article['url']}\"\n",
    "            send_wpp_message(message)\n",
    "            print(f\"Message sent: {message}\")\n",
    "    else:\n",
    "        print(\"No stock variation detected\")\n",
    "        #print(news)\n",
    "        #message = f\"Headline: {article['title']}\\nBrief: {article['description']}\\nLink: {article['url']}\"\n",
    "        #set_wpp_message(message)\n",
    "        #print(f\"Message sent: {message}\")\n",
    "        \n",
    "        "
   ]
  },
  {
   "cell_type": "code",
   "execution_count": null,
   "metadata": {},
   "outputs": [],
   "source": [
    "main()"
   ]
  },
  {
   "cell_type": "code",
   "execution_count": null,
   "metadata": {},
   "outputs": [],
   "source": []
  }
 ],
 "metadata": {
  "kernelspec": {
   "display_name": "Python 3",
   "language": "python",
   "name": "python3"
  },
  "language_info": {
   "codemirror_mode": {
    "name": "ipython",
    "version": 3
   },
   "file_extension": ".py",
   "mimetype": "text/x-python",
   "name": "python",
   "nbconvert_exporter": "python",
   "pygments_lexer": "ipython3",
   "version": "3.12.3"
  }
 },
 "nbformat": 4,
 "nbformat_minor": 2
}
