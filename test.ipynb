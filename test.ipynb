{
 "cells": [
  {
   "cell_type": "code",
   "execution_count": 1,
   "metadata": {},
   "outputs": [],
   "source": [
    "import os\n",
    "import requests\n",
    "import pandas as pd\n",
    "import datetime"
   ]
  },
  {
   "cell_type": "code",
   "execution_count": 15,
   "metadata": {},
   "outputs": [
    {
     "name": "stdout",
     "output_type": "stream",
     "text": [
      "2025-01-24\n",
      "2025-01-23\n"
     ]
    }
   ],
   "source": [
    "today_date = datetime.datetime.now().date()\n",
    "yesterday_date = today_date - datetime.timedelta(days=1)\n",
    "two_days_ago_date = today_date - datetime.timedelta(days=2)\n",
    "print(yesterday_date)\n",
    "print(two_days_ago_date)"
   ]
  },
  {
   "cell_type": "code",
   "execution_count": 16,
   "metadata": {},
   "outputs": [],
   "source": [
    "ALPHA_API_KEY = os.environ.get('ALPHA_API_KEY')\n",
    "STOCK = \"AAPL\"\n",
    "\n",
    "alpha_url = 'https://www.alphavantage.co/query?'\n",
    "alpha_params = {\n",
    "    'function': 'TIME_SERIES_DAILY',\n",
    "    'symbol': STOCK,\n",
    "    'apikey': ALPHA_API_KEY\n",
    "}"
   ]
  },
  {
   "cell_type": "code",
   "execution_count": 25,
   "metadata": {},
   "outputs": [],
   "source": [
    "def get_stock_variation(url, params) -> bool:\n",
    "    response = requests.get(url, params=params)\n",
    "    response.raise_for_status()\n",
    "    raw_data = response.json()\n",
    "    data = raw_data[\"Time Series (Daily)\"]\n",
    "    \n",
    "    yesterday_close = float(data[str(yesterday_date)][\"4. close\"])\n",
    "    two_days_close = float(data[str(two_days_ago_date)][\"4. close\"])\n",
    "    \n",
    "    percentage_difference = (yesterday_close - two_days_close) / yesterday_close * 100\n",
    "    \n",
    "    if abs(percentage_difference) >= 5:\n",
    "        print(\"The variation is more than 5%\")\n",
    "        return True\n",
    "    else:\n",
    "        print(\"The variation is within 5%\")\n",
    "        return False"
   ]
  },
  {
   "cell_type": "code",
   "execution_count": 26,
   "metadata": {},
   "outputs": [],
   "source": [
    "news_url = 'https://newsapi.org/v2/everything'\n",
    "news_params = {\n",
    "    'apiKey': os.environ.get('NEWS_API_KEY'),\n",
    "    'q': 'apple',\n",
    "    'from': yesterday_date,\n",
    "    'language': 'en',\n",
    "    'sortBy':'relevancy'\n",
    "}"
   ]
  },
  {
   "cell_type": "code",
   "execution_count": 27,
   "metadata": {},
   "outputs": [],
   "source": [
    "def get_news(url, params) -> list:\n",
    "    response = requests.get(url, params)\n",
    "    response.raise_for_status()\n",
    "    data = response.json() # o: python dict\n",
    "    # print(data)\n",
    "    # print(type(data))\n",
    "\n",
    "    return data['articles'][0:3]"
   ]
  },
  {
   "cell_type": "code",
   "execution_count": 28,
   "metadata": {},
   "outputs": [
    {
     "name": "stdout",
     "output_type": "stream",
     "text": [
      "The variation is within 5%\n",
      "False\n",
      "[{'source': {'id': None, 'name': 'Gizmodo.com'}, 'author': 'Florence Ion', 'title': 'No One Has Any Idea When Apple’s Revamped CarPlay Will Come to New Cars', 'description': 'Apple has removed the official timeline from its support documentation leaving us all confused.', 'url': 'https://gizmodo.com/no-one-has-any-idea-when-apples-revamped-carplay-will-come-to-new-cars-2000554691', 'urlToImage': 'https://gizmodo.com/app/uploads/2025/01/Carplay.jpg', 'publishedAt': '2025-01-24T18:43:43Z', 'content': 'Apple is no longer promising a 2024 launch date for its revamped CarPlay. This is good news, considering we’re now in 2025. However, it also presents a problem for many iPhone users, who were promise… [+2414 chars]'}, {'source': {'id': None, 'name': 'Gizmodo.com'}, 'author': 'Germain Lussier', 'title': 'Severance Continues Its Return With an Awesome, Outie-Focused Episode', 'description': 'Adam Scott, Britt Lower, John Turturro, and Zach Cherry star in the Apple TV+ sci-fi show.', 'url': 'https://gizmodo.com/severance-season-2-recap-episode-2-adam-scott-2000550327', 'urlToImage': 'https://gizmodo.com/app/uploads/2025/01/Severance_s2recap.jpg', 'publishedAt': '2025-01-24T15:00:49Z', 'content': 'So we saw what happened with the innies, but what about the outies? The second episode of Severance season two is basically the inverse of the premiere, focusing on events immediately after the first… [+8086 chars]'}, {'source': {'id': None, 'name': 'Gizmodo.com'}, 'author': 'Mike Fazioli', 'title': 'The M4 Apple iPad Pro Is Just 2 Bucks Away From Its All-Time Lowest Price on Amazon', 'description': \"Get the 256GB model of Apple's most powerful tablet yet for just $899 and discover the power of Apple Intelligence for yourself.\", 'url': 'https://gizmodo.com/the-m4-apple-ipad-pro-is-just-2-bucks-away-from-its-all-time-lowest-price-at-amazon-2000554043', 'urlToImage': 'https://gizmodo.com/app/uploads/2025/01/iPad-Pro-11-inch-M4.jpg', 'publishedAt': '2025-01-24T17:20:29Z', 'content': 'We should have known that Samsung’s big event and device drops this week would spark a pricing war among the tech giants. Who wins those wars every time? You do, because prices are never more competi… [+2291 chars]'}]\n"
     ]
    }
   ],
   "source": [
    "# TEST\n",
    "stock_price_variation = get_stock_variation(alpha_url, alpha_params)\n",
    "print(stock_price_variation)\n",
    "news = get_news(news_url, news_params)\n",
    "print(news)"
   ]
  },
  {
   "cell_type": "code",
   "execution_count": null,
   "metadata": {},
   "outputs": [],
   "source": []
  }
 ],
 "metadata": {
  "kernelspec": {
   "display_name": "Python 3",
   "language": "python",
   "name": "python3"
  },
  "language_info": {
   "codemirror_mode": {
    "name": "ipython",
    "version": 3
   },
   "file_extension": ".py",
   "mimetype": "text/x-python",
   "name": "python",
   "nbconvert_exporter": "python",
   "pygments_lexer": "ipython3",
   "version": "3.12.3"
  }
 },
 "nbformat": 4,
 "nbformat_minor": 2
}
