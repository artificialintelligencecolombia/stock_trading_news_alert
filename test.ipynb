{
 "cells": [
  {
   "cell_type": "code",
   "execution_count": 1,
   "metadata": {},
   "outputs": [],
   "source": [
    "# Imports\n",
    "import os\n",
    "import requests\n",
    "import pandas as pd\n",
    "import datetime\n",
    "from twilio.rest import Client"
   ]
  },
  {
   "cell_type": "code",
   "execution_count": 2,
   "metadata": {},
   "outputs": [],
   "source": [
    "# GLOBAL API Setup\n",
    "ALPHA_API_KEY = os.environ.get('ALPHA_API_KEY')\n",
    "NEWS_API_KEY = os.environ.get('NEWS_API_KEY')\n",
    "TWILIO_ACCOUNT_SID = os.environ.get('TWILIO_ACCOUNT_SID')\n",
    "TWILIO_AUTH_TOKEN = os.environ.get('TWILIO_AUTH_TOKEN')\n",
    "FROM_WPP = os.environ.get('FROM_WPP')\n",
    "TO_WPP = os.environ.get('TO_WPP')\n",
    "ALPHA_URL = 'https://www.alphavantage.co/query?'\n",
    "NEWS_URL = 'https://newsapi.org/v2/everything'\n"
   ]
  },
  {
   "cell_type": "code",
   "execution_count": 3,
   "metadata": {},
   "outputs": [],
   "source": [
    "\n",
    "# Stock variation calculation\n",
    "def get_stock_variation(stock_symbol) -> bool:\n",
    "    \"\"\"Fetch stock variation percentage and check if it exceeds 5%.\"\"\"\n",
    "    alpha_params = {\n",
    "        'function': 'TIME_SERIES_DAILY',\n",
    "        'symbol': stock_symbol.upper(),\n",
    "        'apikey': ALPHA_API_KEY\n",
    "    }\n",
    "    \n",
    "    response = requests.get(ALPHA_URL, params=alpha_params)\n",
    "    response.raise_for_status()\n",
    "    raw_data = response.json()\n",
    "    data = raw_data[\"Time Series (Daily)\"]\n",
    "    \n",
    "    # Get sorted available dates from API\n",
    "    dates = sorted(data.keys(), reverse=True)\n",
    "    print(dates)\n",
    "    \n",
    "    try:\n",
    "        yesterday_date = dates[0]\n",
    "        two_days_ago_date = dates[1]\n",
    "    except IndexError:\n",
    "        print(\"Not enough data to calculate stock variation\")\n",
    "        return False\n",
    "    \n",
    "    # Fetch close prices\n",
    "    yesterday_close = float(data[yesterday_date][\"4. close\"])\n",
    "    two_days_close = float(data[two_days_ago_date][\"4. close\"])\n",
    "    \n",
    "    percentage_difference = (yesterday_close - two_days_close) / two_days_close * 100\n",
    "    print(f'Stock price variation:{percentage_difference}')\n",
    "    \n",
    "    if abs(percentage_difference) >= 5:\n",
    "        print(\"The variation is more than 5%\")\n",
    "        return True\n",
    "    else:\n",
    "        print(\"The variation is within 5%\")\n",
    "        return False"
   ]
  },
  {
   "cell_type": "code",
   "execution_count": 4,
   "metadata": {},
   "outputs": [],
   "source": [
    "# Fetch news articles\n",
    "def get_news(query) -> list:\n",
    "    \"\"\"Retrieve top 3 news articles based on the query.\"\"\"\n",
    "    \n",
    "    yesterday_date = datetime.datetime.now() - datetime.timedelta(days=1)\n",
    "    news_params = {\n",
    "        'apiKey': os.environ.get('NEWS_API_KEY'),\n",
    "        'q': query,\n",
    "        'from': yesterday_date,\n",
    "        'language': 'en',\n",
    "        'sortBy':'relevancy'\n",
    "    }\n",
    "    \n",
    "    response = requests.get(NEWS_URL, news_params)\n",
    "    response.raise_for_status()\n",
    "    data = response.json() # o: python dict\n",
    "    # print(data)\n",
    "    # print(type(data))\n",
    "\n",
    "    return data['articles'][0:3]"
   ]
  },
  {
   "cell_type": "code",
   "execution_count": 5,
   "metadata": {},
   "outputs": [],
   "source": [
    "# Send wpp message\n",
    "def set_wpp_message(message):\n",
    "    \"\"\"Send a WhatsApp message using Twilio.\"\"\"\n",
    "    client = Client(TWILIO_ACCOUNT_SID, TWILIO_AUTH_TOKEN)\n",
    "    msn = client.messages.create( \n",
    "        body=message,\n",
    "        from_=FROM_WPP,\n",
    "        to=TO_WPP,\n",
    "        )\n",
    "    return msn.status"
   ]
  },
  {
   "cell_type": "code",
   "execution_count": 6,
   "metadata": {},
   "outputs": [
    {
     "name": "stdout",
     "output_type": "stream",
     "text": [
      "['2025-01-24', '2025-01-23', '2025-01-22', '2025-01-21', '2025-01-17', '2025-01-16', '2025-01-15', '2025-01-14', '2025-01-13', '2025-01-10', '2025-01-08', '2025-01-07', '2025-01-06', '2025-01-03', '2025-01-02', '2024-12-31', '2024-12-30', '2024-12-27', '2024-12-26', '2024-12-24', '2024-12-23', '2024-12-20', '2024-12-19', '2024-12-18', '2024-12-17', '2024-12-16', '2024-12-13', '2024-12-12', '2024-12-11', '2024-12-10', '2024-12-09', '2024-12-06', '2024-12-05', '2024-12-04', '2024-12-03', '2024-12-02', '2024-11-29', '2024-11-27', '2024-11-26', '2024-11-25', '2024-11-22', '2024-11-21', '2024-11-20', '2024-11-19', '2024-11-18', '2024-11-15', '2024-11-14', '2024-11-13', '2024-11-12', '2024-11-11', '2024-11-08', '2024-11-07', '2024-11-06', '2024-11-05', '2024-11-04', '2024-11-01', '2024-10-31', '2024-10-30', '2024-10-29', '2024-10-28', '2024-10-25', '2024-10-24', '2024-10-23', '2024-10-22', '2024-10-21', '2024-10-18', '2024-10-17', '2024-10-16', '2024-10-15', '2024-10-14', '2024-10-11', '2024-10-10', '2024-10-09', '2024-10-08', '2024-10-07', '2024-10-04', '2024-10-03', '2024-10-02', '2024-10-01', '2024-09-30', '2024-09-27', '2024-09-26', '2024-09-25', '2024-09-24', '2024-09-23', '2024-09-20', '2024-09-19', '2024-09-18', '2024-09-17', '2024-09-16', '2024-09-13', '2024-09-12', '2024-09-11', '2024-09-10', '2024-09-09', '2024-09-06', '2024-09-05', '2024-09-04', '2024-09-03', '2024-08-30']\n",
      "Stock price variation:-0.3934543503532127\n",
      "The variation is within 5%\n",
      "False\n",
      "[{'source': {'id': None, 'name': 'MacRumors'}, 'author': 'Joe Rossignol', 'title': \"Apple Still 'Exploring' New AirPods With Tiny Cameras\", 'description': \"Apple continues to explore the idea of releasing camera-equipped AirPods in the future, according to Bloomberg's Mark Gurman.\\n\\n\\n\\n\\n\\nGurman only briefly mentioned the possibility of AirPods gaining tiny cameras, as part of his Power On newsletter intro this wee…\", 'url': 'https://www.macrumors.com/2025/01/26/apple-exploring-airpods-with-tiny-cameras/', 'urlToImage': 'https://images.macrumors.com/t/hZNqVW5CIFNjQp6JAllzNjs2kmk=/1600x/article-new/2019/10/airpods-pro-purple.jpg', 'publishedAt': '2025-01-26T15:52:18Z', 'content': \"Apple continues to explore the idea of releasing camera-equipped AirPods in the future, according to Bloomberg's Mark Gurman.\\r\\nGurman only briefly mentioned the possibility of AirPods gaining tiny ca… [+1153 chars]\"}, {'source': {'id': None, 'name': '9to5Mac'}, 'author': 'Michael Burkhardt', 'title': 'It’s time for Apple to rethink its iCloud storage tiers', 'description': 'Apple introduced iCloud back in June 2011, and since then, the free tier of iCloud has remained at 5GB. However, I’m not here to talk about that today. While 5GB of free iCloud is definitely too little for our needs nearly a decade and a half later, I think A…', 'url': 'https://9to5mac.com/2025/01/26/apple-rethink-icloud-storage-tiers/', 'urlToImage': 'https://i0.wp.com/9to5mac.com/wp-content/uploads/sites/6/2024/12/iphone-16-pro.jpg?resize=1200%2C628&quality=82&strip=all&ssl=1', 'publishedAt': '2025-01-26T14:49:29Z', 'content': 'Apple introduced iCloud back in June 2011, and since then, the free tier of iCloud has remained at 5GB. However, Im not here to talk about that today. While 5GB of free iCloud is definitely too littl… [+4247 chars]'}, {'source': {'id': None, 'name': 'AppleInsider'}, 'author': 'news@appleinsider.com (Malcolm Owen)', 'title': \"Development of Apple's smart glasses continues despite massive hurdles\", 'description': \"The long-rumored Apple Glass may eventually become Apple's wearable future, with development of the smart glasses hitting hurdles that even Apple's rivals are having to deal with.Renders of what Apple Glass could look likeThe Apple Vision Pro is Apple's first…\", 'url': 'https://appleinsider.com/articles/25/01/26/development-of-apples-smart-glasses-continues-despite-massive-hurdles', 'urlToImage': 'https://photos5.appleinsider.com/gallery/62434-129439-52052-103434-000-lead-Apple-AR-xl-xl.jpg', 'publishedAt': '2025-01-26T14:58:54Z', 'content': \"The long-rumored Apple Glass may eventually become Apple's wearable future, with development of the smart glasses hitting hurdles that even Apple's rivals are having to deal with. \\r\\nThe Apple Vision … [+6228 chars]\"}]\n"
     ]
    }
   ],
   "source": [
    "# TEST\n",
    "stock_price_variation = get_stock_variation(\"AAPL\")\n",
    "print(stock_price_variation)\n",
    "news = get_news(\"apple\")\n",
    "print(news)\n",
    "message= \"testing MESSAGE. From: test.\"\n",
    "msn = set_wpp_message(message)"
   ]
  },
  {
   "cell_type": "code",
   "execution_count": 13,
   "metadata": {},
   "outputs": [],
   "source": [
    "def main():\n",
    "    stock_price_variation = get_stock_variation(\"EC\")\n",
    "    topic= \"ecopetrol\"\n",
    "    if stock_price_variation:\n",
    "        print(\"Stock variation detected. Fetching news articles...\")\n",
    "        \n",
    "        news = get_news(topic)\n",
    "        for article in news:\n",
    "            message = f\"Headline: {article['title']}\\nBrief: {article['description']}\\nLink: {article['url']}\"\n",
    "            set_wpp_message(message)\n",
    "            print(f\"Message sent: {message}\")\n",
    "    else:\n",
    "        news = get_news(topic)\n",
    "        print(news)\n",
    "        message = f\"Headline: {article['title']}\\nBrief: {article['description']}\\nLink: {article['url']}\"\n",
    "        set_wpp_message(message)\n",
    "        print(f\"Message sent: {message}\")\n",
    "        print(\"No stock variation detected\")\n",
    "        "
   ]
  },
  {
   "cell_type": "code",
   "execution_count": 14,
   "metadata": {},
   "outputs": [
    {
     "name": "stdout",
     "output_type": "stream",
     "text": [
      "['2025-01-24', '2025-01-23', '2025-01-22', '2025-01-21', '2025-01-17', '2025-01-16', '2025-01-15', '2025-01-14', '2025-01-13', '2025-01-10', '2025-01-08', '2025-01-07', '2025-01-06', '2025-01-03', '2025-01-02', '2024-12-31', '2024-12-30', '2024-12-27', '2024-12-26', '2024-12-24', '2024-12-23', '2024-12-20', '2024-12-19', '2024-12-18', '2024-12-17', '2024-12-16', '2024-12-13', '2024-12-12', '2024-12-11', '2024-12-10', '2024-12-09', '2024-12-06', '2024-12-05', '2024-12-04', '2024-12-03', '2024-12-02', '2024-11-29', '2024-11-27', '2024-11-26', '2024-11-25', '2024-11-22', '2024-11-21', '2024-11-20', '2024-11-19', '2024-11-18', '2024-11-15', '2024-11-14', '2024-11-13', '2024-11-12', '2024-11-11', '2024-11-08', '2024-11-07', '2024-11-06', '2024-11-05', '2024-11-04', '2024-11-01', '2024-10-31', '2024-10-30', '2024-10-29', '2024-10-28', '2024-10-25', '2024-10-24', '2024-10-23', '2024-10-22', '2024-10-21', '2024-10-18', '2024-10-17', '2024-10-16', '2024-10-15', '2024-10-14', '2024-10-11', '2024-10-10', '2024-10-09', '2024-10-08', '2024-10-07', '2024-10-04', '2024-10-03', '2024-10-02', '2024-10-01', '2024-09-30', '2024-09-27', '2024-09-26', '2024-09-25', '2024-09-24', '2024-09-23', '2024-09-20', '2024-09-19', '2024-09-18', '2024-09-17', '2024-09-16', '2024-09-13', '2024-09-12', '2024-09-11', '2024-09-10', '2024-09-09', '2024-09-06', '2024-09-05', '2024-09-04', '2024-09-03', '2024-08-30']\n",
      "Stock price variation:0.11876484560569818\n",
      "The variation is within 5%\n",
      "[]\n"
     ]
    },
    {
     "ename": "UnboundLocalError",
     "evalue": "cannot access local variable 'article' where it is not associated with a value",
     "output_type": "error",
     "traceback": [
      "\u001b[1;31m---------------------------------------------------------------------------\u001b[0m",
      "\u001b[1;31mUnboundLocalError\u001b[0m                         Traceback (most recent call last)",
      "Cell \u001b[1;32mIn[14], line 1\u001b[0m\n\u001b[1;32m----> 1\u001b[0m \u001b[43mmain\u001b[49m\u001b[43m(\u001b[49m\u001b[43m)\u001b[49m\n",
      "Cell \u001b[1;32mIn[13], line 15\u001b[0m, in \u001b[0;36mmain\u001b[1;34m()\u001b[0m\n\u001b[0;32m     13\u001b[0m news \u001b[38;5;241m=\u001b[39m get_news(topic)\n\u001b[0;32m     14\u001b[0m \u001b[38;5;28mprint\u001b[39m(news)\n\u001b[1;32m---> 15\u001b[0m message \u001b[38;5;241m=\u001b[39m \u001b[38;5;124mf\u001b[39m\u001b[38;5;124m\"\u001b[39m\u001b[38;5;124mHeadline: \u001b[39m\u001b[38;5;132;01m{\u001b[39;00m\u001b[43marticle\u001b[49m[\u001b[38;5;124m'\u001b[39m\u001b[38;5;124mtitle\u001b[39m\u001b[38;5;124m'\u001b[39m]\u001b[38;5;132;01m}\u001b[39;00m\u001b[38;5;130;01m\\n\u001b[39;00m\u001b[38;5;124mBrief: \u001b[39m\u001b[38;5;132;01m{\u001b[39;00marticle[\u001b[38;5;124m'\u001b[39m\u001b[38;5;124mdescription\u001b[39m\u001b[38;5;124m'\u001b[39m]\u001b[38;5;132;01m}\u001b[39;00m\u001b[38;5;130;01m\\n\u001b[39;00m\u001b[38;5;124mLink: \u001b[39m\u001b[38;5;132;01m{\u001b[39;00marticle[\u001b[38;5;124m'\u001b[39m\u001b[38;5;124murl\u001b[39m\u001b[38;5;124m'\u001b[39m]\u001b[38;5;132;01m}\u001b[39;00m\u001b[38;5;124m\"\u001b[39m\n\u001b[0;32m     16\u001b[0m set_wpp_message(message)\n\u001b[0;32m     17\u001b[0m \u001b[38;5;28mprint\u001b[39m(\u001b[38;5;124mf\u001b[39m\u001b[38;5;124m\"\u001b[39m\u001b[38;5;124mMessage sent: \u001b[39m\u001b[38;5;132;01m{\u001b[39;00mmessage\u001b[38;5;132;01m}\u001b[39;00m\u001b[38;5;124m\"\u001b[39m)\n",
      "\u001b[1;31mUnboundLocalError\u001b[0m: cannot access local variable 'article' where it is not associated with a value"
     ]
    }
   ],
   "source": [
    "main()"
   ]
  },
  {
   "cell_type": "code",
   "execution_count": null,
   "metadata": {},
   "outputs": [],
   "source": []
  }
 ],
 "metadata": {
  "kernelspec": {
   "display_name": "Python 3",
   "language": "python",
   "name": "python3"
  },
  "language_info": {
   "codemirror_mode": {
    "name": "ipython",
    "version": 3
   },
   "file_extension": ".py",
   "mimetype": "text/x-python",
   "name": "python",
   "nbconvert_exporter": "python",
   "pygments_lexer": "ipython3",
   "version": "3.12.3"
  }
 },
 "nbformat": 4,
 "nbformat_minor": 2
}
