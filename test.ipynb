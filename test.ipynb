{
 "cells": [
  {
   "cell_type": "code",
   "execution_count": 11,
   "metadata": {},
   "outputs": [],
   "source": [
    "import os\n",
    "import requests\n",
    "import pandas as pd\n",
    "import datetime"
   ]
  },
  {
   "cell_type": "code",
   "execution_count": null,
   "metadata": {},
   "outputs": [],
   "source": [
    "today_date = datetime.datetime.now().date()\n",
    "yesterday_date = today_date - datetime.timedelta(days=1)\n",
    "two_days_ago_date = today_date - datetime.timedelta(days=2)\n",
    "print(yesterday_date)\n",
    "print(two_days_ago_date)"
   ]
  },
  {
   "cell_type": "code",
   "execution_count": 13,
   "metadata": {},
   "outputs": [],
   "source": [
    "ALPHA_API_KEY = os.environ.get('ALPHA_API_KEY')\n",
    "STOCK = \"AAPL\"\n",
    "\n",
    "alpha_url = 'https://www.alphavantage.co/query?'\n",
    "alpha_params = {\n",
    "    'function': 'TIME_SERIES_DAILY',\n",
    "    'symbol': STOCK,\n",
    "    'apikey': ALPHA_API_KEY\n",
    "}"
   ]
  },
  {
   "cell_type": "code",
   "execution_count": 14,
   "metadata": {},
   "outputs": [],
   "source": [
    "def get_stock_variation(url, params) -> bool:\n",
    "    response = requests.get(url, params=params)\n",
    "    response.raise_for_status()\n",
    "    raw_data = response.json()\n",
    "    data = raw_data[\"Time Series (Daily)\"]\n",
    "    \n",
    "    # Get sorted available dates from API\n",
    "    dates = sorted(data.keys(), reverse=True)\n",
    "    \n",
    "    try:\n",
    "        yesterday_date = dates[0]\n",
    "        two_days_ago_date = dates[1]\n",
    "    except IndexError:\n",
    "        print(\"Not enough data to calculate stock variation\")\n",
    "        return False\n",
    "    \n",
    "    # Fetch close prices\n",
    "    yesterday_close = float(data[yesterday_date][\"4. close\"])\n",
    "    two_days_close = float(data[two_days_ago_date][\"4. close\"])\n",
    "    \n",
    "    percentage_difference = (yesterday_close - two_days_close) / yesterday_close * 100\n",
    "    \n",
    "    if abs(percentage_difference) >= 5:\n",
    "        print(\"The variation is more than 5%\")\n",
    "        return True\n",
    "    else:\n",
    "        print(\"The variation is within 5%\")\n",
    "        return False"
   ]
  },
  {
   "cell_type": "code",
   "execution_count": 15,
   "metadata": {},
   "outputs": [],
   "source": [
    "news_url = 'https://newsapi.org/v2/everything'\n",
    "news_params = {\n",
    "    'apiKey': os.environ.get('NEWS_API_KEY'),\n",
    "    'q': 'apple',\n",
    "    'from': yesterday_date,\n",
    "    'language': 'en',\n",
    "    'sortBy':'relevancy'\n",
    "}"
   ]
  },
  {
   "cell_type": "code",
   "execution_count": 16,
   "metadata": {},
   "outputs": [],
   "source": [
    "def get_news(url, params) -> list:\n",
    "    response = requests.get(url, params)\n",
    "    response.raise_for_status()\n",
    "    data = response.json() # o: python dict\n",
    "    # print(data)\n",
    "    # print(type(data))\n",
    "\n",
    "    return data['articles'][0:3]"
   ]
  },
  {
   "cell_type": "code",
   "execution_count": null,
   "metadata": {},
   "outputs": [],
   "source": [
    "# TEST\n",
    "stock_price_variation = get_stock_variation(alpha_url, alpha_params)\n",
    "print(stock_price_variation)\n",
    "# news = get_news(news_url, news_params)\n",
    "# print(news)"
   ]
  },
  {
   "cell_type": "code",
   "execution_count": null,
   "metadata": {},
   "outputs": [],
   "source": []
  }
 ],
 "metadata": {
  "kernelspec": {
   "display_name": "Python 3",
   "language": "python",
   "name": "python3"
  },
  "language_info": {
   "codemirror_mode": {
    "name": "ipython",
    "version": 3
   },
   "file_extension": ".py",
   "mimetype": "text/x-python",
   "name": "python",
   "nbconvert_exporter": "python",
   "pygments_lexer": "ipython3",
   "version": "3.12.3"
  }
 },
 "nbformat": 4,
 "nbformat_minor": 2
}
