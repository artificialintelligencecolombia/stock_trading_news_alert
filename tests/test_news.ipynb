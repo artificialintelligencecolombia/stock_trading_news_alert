{
 "cells": [
  {
   "cell_type": "code",
   "execution_count": null,
   "metadata": {},
   "outputs": [],
   "source": [
    "# Import libraries\n",
    "import os\n",
    "import requests\n",
    "import datetime"
   ]
  },
  {
   "cell_type": "code",
   "execution_count": null,
   "metadata": {},
   "outputs": [],
   "source": [
    "# Get user input for stock query information\n",
    "query_stock = input('Enter')\n",
    "\n",
    "# Calculate dates for news search\n",
    "today_date = datetime.datetime.now().date()\n",
    "yesterday_date = today_date - datetime.timedelta(days=1)"
   ]
  },
  {
   "cell_type": "code",
   "execution_count": null,
   "metadata": {},
   "outputs": [],
   "source": [
    "# Set up API request parameters\n",
    "url = 'https://newsapi.org/v2/everything'\n",
    "parameters = {\n",
    "    'apiKey': os.environ.get('NEWS_API_KEY'),\n",
    "    'q': query_stock,\n",
    "    'from': yesterday_date,\n",
    "    'language': 'en',\n",
    "    'sortBy':'relevancy'\n",
    "}"
   ]
  },
  {
   "cell_type": "code",
   "execution_count": null,
   "metadata": {},
   "outputs": [
    {
     "name": "stdout",
     "output_type": "stream",
     "text": [
      "<class 'list'>\n",
      "[{'source': {'id': None, 'name': 'MacRumors'}, 'author': 'Joe Rossignol', 'title': \"Pro Display XDR 2 and Larger iMac: Here's What the Latest Rumors Say\", 'description': \"In his Power On newsletter today, Bloomberg's Mark Gurman briefly touched on the future of the Pro Display XDR and a larger iMac.\\n\\n\\n\\n\\n\\nBelow, we recap the latest rumors.\\n\\n\\n\\nPro Display XDR 2\\n\\nReleased in December 2019, the Pro Display XDR features a 32-inch s…\", 'url': 'https://www.macrumors.com/2025/02/16/pro-display-xdr-2-and-larger-imac-rumors/', 'urlToImage': 'https://images.macrumors.com/t/cz6OHKoATPugpNQoxRXqJW5eBfQ=/1626x/article-new/2022/01/iMac-Pro-2022-27-and-24-iMac.jpg', 'publishedAt': '2025-02-16T15:55:24Z', 'content': \"In his Power On newsletter today, Bloomberg's Mark Gurman briefly touched on the future of the Pro Display XDR and a larger iMac.\\r\\nThis comes amid rumors of a new Studio Display with mini-LED backlig… [+2201 chars]\"}, {'source': {'id': None, 'name': 'BBC News'}, 'author': None, 'title': 'Adventurous cat hops on the train to London for 18 mile journey', 'description': \"Tilly's owner says she has also gone to a school and a pub in Weybridge in the past.\", 'url': 'https://www.bbc.com/news/articles/ce85xjnn7nko', 'urlToImage': 'https://ichef.bbci.co.uk/news/1024/branded_news/d5a3/live/7c85b6f0-e953-11ef-80e0-a5172a55ed51.jpg', 'publishedAt': '2025-02-16T07:16:43Z', 'content': 'Sam Dixon-French\\r\\nJacob Panons\\r\\nTrains from Weybridge can take almost an hour and a half to get to Waterloo\\r\\nAn adventurous cat had to be collected from London Waterloo station by her owner after tak… [+1496 chars]'}, {'source': {'id': 'wired', 'name': 'Wired'}, 'author': 'Brenda Stolyar', 'title': 'Zagg Pro Keys 2 for iPad Pro: A Thick Keyboard Case', 'description': 'The Pro Keys 2 is a solid iPad keyboard case offering great protection for your tablet. However, there are quite a few caveats along the way.', 'url': 'https://www.wired.com/review/zagg-pro-keys-2-ipad-pro-13-inch-keyboard-case/', 'urlToImage': 'https://media.wired.com/photos/67ad0cd68fb3c5120aea6a25/191:100/w_1280,c_limit/Zagg-Pro-Keys-2-for-iPad-Pro-2024-Reviewer-Collage-022025-SOURCE-Brenda-Stolyar.jpg', 'publishedAt': '2025-02-16T15:30:00Z', 'content': \"I'm constantly testingdifferent iPad cases. When I'm done, I always return to the Logitech Combo Touch. With an adjustable kickstand and a detachable keyboard, it has everything I need. The Zagg Pro … [+3085 chars]\"}]\n"
     ]
    }
   ],
   "source": [
    "# Send request to News API\n",
    "response = requests.get(url, params=parameters)\n",
    "data = response.json() # output: python dict\n",
    "\n",
    "# Extract and display top 3 news articles\n",
    "news_pieces = data['articles'][0:3]\n",
    "print(type(news_pieces))\n",
    "print(news_pieces)"
   ]
  },
  {
   "cell_type": "code",
   "execution_count": null,
   "metadata": {},
   "outputs": [],
   "source": []
  }
 ],
 "metadata": {
  "kernelspec": {
   "display_name": "venv",
   "language": "python",
   "name": "python3"
  },
  "language_info": {
   "codemirror_mode": {
    "name": "ipython",
    "version": 3
   },
   "file_extension": ".py",
   "mimetype": "text/x-python",
   "name": "python",
   "nbconvert_exporter": "python",
   "pygments_lexer": "ipython3",
   "version": "3.12.3"
  }
 },
 "nbformat": 4,
 "nbformat_minor": 2
}
