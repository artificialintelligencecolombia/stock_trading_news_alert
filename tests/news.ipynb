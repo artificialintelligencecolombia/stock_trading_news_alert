{
 "cells": [
  {
   "cell_type": "code",
   "execution_count": 13,
   "metadata": {},
   "outputs": [],
   "source": [
    "import os\n",
    "import requests\n",
    "import datetime"
   ]
  },
  {
   "cell_type": "code",
   "execution_count": 16,
   "metadata": {},
   "outputs": [],
   "source": [
    "today_date = datetime.datetime.now().date()\n",
    "yesterday_date = today_date - datetime.timedelta(days=1)\n",
    "\n",
    "url = 'https://newsapi.org/v2/everything'\n",
    "parameters = {\n",
    "    'apiKey': os.environ.get('NEWS_API_KEY'),\n",
    "    'q': 'apple',\n",
    "    'from': yesterday_date,\n",
    "    'language': 'en',\n",
    "    'sortBy':'relevancy'\n",
    "}"
   ]
  },
  {
   "cell_type": "code",
   "execution_count": 17,
   "metadata": {},
   "outputs": [
    {
     "name": "stdout",
     "output_type": "stream",
     "text": [
      "<class 'list'>\n",
      "[{'source': {'id': None, 'name': 'Gizmodo.com'}, 'author': 'Florence Ion', 'title': 'No One Has Any Idea When Apple’s Revamped CarPlay Will Come to New Cars', 'description': 'Apple has removed the official timeline from its support documentation leaving us all confused.', 'url': 'https://gizmodo.com/no-one-has-any-idea-when-apples-revamped-carplay-will-come-to-new-cars-2000554691', 'urlToImage': 'https://gizmodo.com/app/uploads/2025/01/Carplay.jpg', 'publishedAt': '2025-01-24T18:43:43Z', 'content': 'Apple is no longer promising a 2024 launch date for its revamped CarPlay. This is good news, considering we’re now in 2025. However, it also presents a problem for many iPhone users, who were promise… [+2414 chars]'}, {'source': {'id': None, 'name': 'Gizmodo.com'}, 'author': 'Germain Lussier', 'title': 'Severance Continues Its Return With an Awesome, Outie-Focused Episode', 'description': 'Adam Scott, Britt Lower, John Turturro, and Zach Cherry star in the Apple TV+ sci-fi show.', 'url': 'https://gizmodo.com/severance-season-2-recap-episode-2-adam-scott-2000550327', 'urlToImage': 'https://gizmodo.com/app/uploads/2025/01/Severance_s2recap.jpg', 'publishedAt': '2025-01-24T15:00:49Z', 'content': 'So we saw what happened with the innies, but what about the outies? The second episode of Severance season two is basically the inverse of the premiere, focusing on events immediately after the first… [+8086 chars]'}, {'source': {'id': None, 'name': 'Gizmodo.com'}, 'author': 'Mike Fazioli', 'title': 'The M4 Apple iPad Pro Is Just 2 Bucks Away From Its All-Time Lowest Price on Amazon', 'description': \"Get the 256GB model of Apple's most powerful tablet yet for just $899 and discover the power of Apple Intelligence for yourself.\", 'url': 'https://gizmodo.com/the-m4-apple-ipad-pro-is-just-2-bucks-away-from-its-all-time-lowest-price-at-amazon-2000554043', 'urlToImage': 'https://gizmodo.com/app/uploads/2025/01/iPad-Pro-11-inch-M4.jpg', 'publishedAt': '2025-01-24T17:20:29Z', 'content': 'We should have known that Samsung’s big event and device drops this week would spark a pricing war among the tech giants. Who wins those wars every time? You do, because prices are never more competi… [+2291 chars]'}]\n"
     ]
    }
   ],
   "source": [
    "response = requests.get(url, params=parameters)\n",
    "data = response.json() # o: python dict\n",
    "# print(data)\n",
    "# print(type(data))\n",
    "\n",
    "news_pieces = data['articles'][0:3]\n",
    "print(type(news_pieces))\n",
    "print(news_pieces)"
   ]
  },
  {
   "cell_type": "code",
   "execution_count": null,
   "metadata": {},
   "outputs": [],
   "source": []
  }
 ],
 "metadata": {
  "kernelspec": {
   "display_name": "Python 3",
   "language": "python",
   "name": "python3"
  },
  "language_info": {
   "codemirror_mode": {
    "name": "ipython",
    "version": 3
   },
   "file_extension": ".py",
   "mimetype": "text/x-python",
   "name": "python",
   "nbconvert_exporter": "python",
   "pygments_lexer": "ipython3",
   "version": "3.12.3"
  }
 },
 "nbformat": 4,
 "nbformat_minor": 2
}
