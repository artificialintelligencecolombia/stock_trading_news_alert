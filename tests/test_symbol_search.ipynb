{
 "cells": [
  {
   "cell_type": "code",
   "execution_count": 1,
   "metadata": {},
   "outputs": [],
   "source": [
    "# Import libraries\n",
    "import os\n",
    "import requests"
   ]
  },
  {
   "cell_type": "code",
   "execution_count": 2,
   "metadata": {},
   "outputs": [],
   "source": [
    "# Retrieve API key from environment variables\n",
    "ALPHA_API_KEY = os.environ.get('ALPHA_API_KEY')"
   ]
  },
  {
   "cell_type": "code",
   "execution_count": 3,
   "metadata": {},
   "outputs": [],
   "source": [
    "# Get user input for stock keyword search\n",
    "stock_keyword = input('Enter a keyword to search for stocks (e.g., company name or ticker symbol):')"
   ]
  },
  {
   "cell_type": "code",
   "execution_count": 4,
   "metadata": {},
   "outputs": [
    {
     "name": "stdout",
     "output_type": "stream",
     "text": [
      "{'bestMatches': [{'1. symbol': 'EC', '2. name': 'Ecopetrol SA', '3. type': 'Equity', '4. region': 'United States', '5. marketOpen': '09:30', '6. marketClose': '16:00', '7. timezone': 'UTC-04', '8. currency': 'USD', '9. matchScore': '0.8571'}, {'1. symbol': 'ECHA.FRK', '2. name': 'Ecopetrol S.A', '3. type': 'Equity', '4. region': 'Frankfurt', '5. marketOpen': '08:00', '6. marketClose': '20:00', '7. timezone': 'UTC+02', '8. currency': 'EUR', '9. matchScore': '0.8182'}, {'1. symbol': 'E1CO34.SAO', '2. name': 'Ecopetrol S.A.', '3. type': 'Equity', '4. region': 'Brazil/Sao Paolo', '5. marketOpen': '10:00', '6. marketClose': '17:30', '7. timezone': 'UTC-03', '8. currency': 'BRL', '9. matchScore': '0.7826'}, {'1. symbol': 'ECPO', '2. name': 'Ecopetroleum Sol', '3. type': 'Equity', '4. region': 'United States', '5. marketOpen': '09:30', '6. marketClose': '16:00', '7. timezone': 'UTC-04', '8. currency': 'USD', '9. matchScore': '0.7200'}]}\n"
     ]
    }
   ],
   "source": [
    "# Set up Symbol Search API request for stock symbols\n",
    "url = 'https://www.alphavantage.co/query?'\n",
    "params = {\n",
    "    'function': 'SYMBOL_SEARCH',\n",
    "    'keywords': stock_keyword,\n",
    "    'apikey': ALPHA_API_KEY\n",
    "}\n",
    "\n",
    "# Send request and handle response\n",
    "response = requests.get(url, params=params)\n",
    "response.raise_for_status()\n",
    "\n",
    "# Parse and display search results\n",
    "data = response.json()\n",
    "print(data)"
   ]
  }
 ],
 "metadata": {
  "kernelspec": {
   "display_name": "venv",
   "language": "python",
   "name": "python3"
  },
  "language_info": {
   "codemirror_mode": {
    "name": "ipython",
    "version": 3
   },
   "file_extension": ".py",
   "mimetype": "text/x-python",
   "name": "python",
   "nbconvert_exporter": "python",
   "pygments_lexer": "ipython3",
   "version": "3.12.3"
  }
 },
 "nbformat": 4,
 "nbformat_minor": 2
}
