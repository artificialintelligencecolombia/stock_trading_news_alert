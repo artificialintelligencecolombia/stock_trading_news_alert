{
 "cells": [
  {
   "cell_type": "code",
   "execution_count": 1,
   "metadata": {},
   "outputs": [],
   "source": [
    "# Import libraries\n",
    "import os\n",
    "import requests\n",
    "import pandas as pd"
   ]
  },
  {
   "cell_type": "code",
   "execution_count": null,
   "metadata": {},
   "outputs": [],
   "source": [
    "# Retrieve Alphavantage API key from environment variables\n",
    "ALPHA_API_KEY = os.environ.get('ALPHA_API_KEY')"
   ]
  },
  {
   "cell_type": "code",
   "execution_count": null,
   "metadata": {},
   "outputs": [],
   "source": [
    "# Get user input for stock keyword search\n",
    "stock_keyword = input('Enter a keyword to search for stocks (e.g., company name or ticker symbol):')"
   ]
  },
  {
   "cell_type": "code",
   "execution_count": null,
   "metadata": {},
   "outputs": [],
   "source": [
    "# Set up Symbol Search API request for stock symbols\n",
    "url = 'https://www.alphavantage.co/query?'\n",
    "params = {\n",
    "    'function': 'SYMBOL_SEARCH',\n",
    "    'keywords': stock_keyword,\n",
    "    'apikey': ALPHA_API_KEY\n",
    "}"
   ]
  },
  {
   "cell_type": "code",
   "execution_count": 5,
   "metadata": {},
   "outputs": [
    {
     "name": "stdout",
     "output_type": "stream",
     "text": [
      "Response: <Response [200]>\n",
      "code: 200\n",
      "[{'1. symbol': 'CMTOY', '2. name': 'Cementos Argos S.A', '3. type': 'Equity', '4. region': 'United States', '5. marketOpen': '09:30', '6. marketClose': '16:00', '7. timezone': 'UTC-04', '8. currency': 'USD', '9. matchScore': '0.8750'}, {'1. symbol': 'CMTSY', '2. name': 'Cementos Argos S.A', '3. type': 'Equity', '4. region': 'United States', '5. marketOpen': '09:30', '6. marketClose': '16:00', '7. timezone': 'UTC-04', '8. currency': 'USD', '9. matchScore': '0.8750'}]\n"
     ]
    }
   ],
   "source": [
    "# Send request and handle response\n",
    "response = requests.get(url, params=params)\n",
    "response.raise_for_status()\n",
    "\n",
    "# Parse and display search results    \n",
    "data = response.json()\n",
    "print(data['bestMatches'])"
   ]
  },
  {
   "cell_type": "code",
   "execution_count": null,
   "metadata": {},
   "outputs": [],
   "source": [
    "# Get user input for the specific stock symbol of interest\n",
    "stock_symbol = input('Enter the exact stock symbol you want to analyze: ')"
   ]
  },
  {
   "cell_type": "code",
   "execution_count": null,
   "metadata": {},
   "outputs": [],
   "source": [
    "# Set up Time Series Daily API request to get daily time series data for the chosen stock\n",
    "url = 'https://www.alphavantage.co/query?'\n",
    "params = {\n",
    "    'function': 'TIME_SERIES_DAILY',\n",
    "    'symbol': stock_symbol,\n",
    "    'apikey': ALPHA_API_KEY\n",
    "}"
   ]
  },
  {
   "cell_type": "code",
   "execution_count": null,
   "metadata": {},
   "outputs": [
    {
     "name": "stdout",
     "output_type": "stream",
     "text": [
      "{'2025-02-14': {'1. open': '12.9660', '2. high': '12.9660', '3. low': '12.9660', '4. close': '12.9660', '5. volume': '10'}, '2025-02-13': {'1. open': '12.9660', '2. high': '12.9660', '3. low': '12.9660', '4. close': '12.9660', '5. volume': '0'}, '2025-02-12': {'1. open': '12.9660', '2. high': '12.9660', '3. low': '12.9660', '4. close': '12.9660', '5. volume': '10'}, '2025-02-11': {'1. open': '12.9660', '2. high': '12.9660', '3. low': '12.9660', '4. close': '12.9660', '5. volume': '10'}, '2025-02-10': {'1. open': '12.9660', '2. high': '12.9660', '3. low': '12.9660', '4. close': '12.9660', '5. volume': '0'}, '2025-02-07': {'1. open': '12.8000', '2. high': '12.9660', '3. low': '12.8000', '4. close': '12.9660', '5. volume': '1230'}, '2025-02-06': {'1. open': '12.6500', '2. high': '12.6500', '3. low': '12.6500', '4. close': '12.6500', '5. volume': '0'}, '2025-02-05': {'1. open': '12.6500', '2. high': '12.6500', '3. low': '12.6500', '4. close': '12.6500', '5. volume': '55'}, '2025-02-04': {'1. open': '12.5000', '2. high': '12.6500', '3. low': '12.5000', '4. close': '12.6500', '5. volume': '820'}, '2025-02-03': {'1. open': '12.6400', '2. high': '12.6400', '3. low': '12.6400', '4. close': '12.6400', '5. volume': '100'}, '2025-01-31': {'1. open': '12.5000', '2. high': '12.5000', '3. low': '12.5000', '4. close': '12.5000', '5. volume': '785'}, '2025-01-30': {'1. open': '12.6900', '2. high': '12.6900', '3. low': '12.6900', '4. close': '12.6900', '5. volume': '0'}, '2025-01-29': {'1. open': '12.0000', '2. high': '12.6900', '3. low': '12.0000', '4. close': '12.6900', '5. volume': '605'}, '2025-01-28': {'1. open': '11.8000', '2. high': '11.8000', '3. low': '11.8000', '4. close': '11.8000', '5. volume': '1333'}, '2025-01-27': {'1. open': '11.7400', '2. high': '11.7400', '3. low': '11.7400', '4. close': '11.7400', '5. volume': '1877'}, '2025-01-24': {'1. open': '11.9100', '2. high': '11.9100', '3. low': '11.9100', '4. close': '11.9100', '5. volume': '730'}, '2025-01-23': {'1. open': '11.6500', '2. high': '11.6500', '3. low': '11.5600', '4. close': '11.5600', '5. volume': '475'}, '2025-01-22': {'1. open': '11.7200', '2. high': '11.7200', '3. low': '11.2550', '4. close': '11.5600', '5. volume': '3584'}, '2025-01-21': {'1. open': '12.0000', '2. high': '12.0000', '3. low': '11.6200', '4. close': '11.6200', '5. volume': '900'}, '2025-01-17': {'1. open': '12.7000', '2. high': '12.7000', '3. low': '12.7000', '4. close': '12.7000', '5. volume': '11'}, '2025-01-16': {'1. open': '12.7000', '2. high': '12.7000', '3. low': '12.7000', '4. close': '12.7000', '5. volume': '0'}, '2025-01-15': {'1. open': '12.7000', '2. high': '12.7000', '3. low': '12.7000', '4. close': '12.7000', '5. volume': '0'}, '2025-01-14': {'1. open': '12.7000', '2. high': '12.7000', '3. low': '12.7000', '4. close': '12.7000', '5. volume': '0'}, '2025-01-13': {'1. open': '12.7000', '2. high': '12.7000', '3. low': '12.7000', '4. close': '12.7000', '5. volume': '33'}, '2025-01-10': {'1. open': '12.7000', '2. high': '12.7000', '3. low': '12.7000', '4. close': '12.7000', '5. volume': '0'}, '2025-01-08': {'1. open': '12.7000', '2. high': '12.7000', '3. low': '12.7000', '4. close': '12.7000', '5. volume': '662'}, '2025-01-07': {'1. open': '12.3000', '2. high': '12.7100', '3. low': '12.1700', '4. close': '12.7100', '5. volume': '2656'}, '2025-01-06': {'1. open': '12.1700', '2. high': '12.1700', '3. low': '12.1700', '4. close': '12.1700', '5. volume': '0'}, '2025-01-03': {'1. open': '12.1700', '2. high': '12.1700', '3. low': '12.1700', '4. close': '12.1700', '5. volume': '4417'}, '2025-01-02': {'1. open': '12.0000', '2. high': '12.3100', '3. low': '11.7000', '4. close': '11.7000', '5. volume': '2615'}, '2024-12-31': {'1. open': '12.3000', '2. high': '12.3000', '3. low': '12.3000', '4. close': '12.3000', '5. volume': '25'}, '2024-12-30': {'1. open': '12.3200', '2. high': '12.3200', '3. low': '12.3000', '4. close': '12.3000', '5. volume': '5487'}, '2024-12-27': {'1. open': '12.7000', '2. high': '12.7000', '3. low': '12.7000', '4. close': '12.7000', '5. volume': '0'}, '2024-12-26': {'1. open': '12.7000', '2. high': '12.7000', '3. low': '12.7000', '4. close': '12.7000', '5. volume': '0'}, '2024-12-24': {'1. open': '12.7000', '2. high': '12.7000', '3. low': '12.7000', '4. close': '12.7000', '5. volume': '20'}, '2024-12-23': {'1. open': '13.0000', '2. high': '13.0000', '3. low': '12.7000', '4. close': '12.7000', '5. volume': '2266'}, '2024-12-20': {'1. open': '11.4000', '2. high': '13.0000', '3. low': '11.4000', '4. close': '13.0000', '5. volume': '7670'}, '2024-12-19': {'1. open': '11.4350', '2. high': '11.5700', '3. low': '11.3000', '4. close': '11.4000', '5. volume': '2717'}, '2024-12-18': {'1. open': '11.3000', '2. high': '11.3000', '3. low': '11.3000', '4. close': '11.3000', '5. volume': '2000'}, '2024-12-17': {'1. open': '11.4100', '2. high': '11.4100', '3. low': '11.4100', '4. close': '11.4100', '5. volume': '13'}, '2024-12-16': {'1. open': '11.4100', '2. high': '11.4100', '3. low': '11.4100', '4. close': '11.4100', '5. volume': '15'}, '2024-12-13': {'1. open': '11.4250', '2. high': '11.4250', '3. low': '11.4100', '4. close': '11.4100', '5. volume': '1003'}, '2024-12-12': {'1. open': '11.3600', '2. high': '11.4100', '3. low': '11.3600', '4. close': '11.3600', '5. volume': '5479'}, '2024-12-11': {'1. open': '11.3600', '2. high': '11.3600', '3. low': '11.3600', '4. close': '11.3600', '5. volume': '5000'}, '2024-12-10': {'1. open': '11.1000', '2. high': '11.1000', '3. low': '11.1000', '4. close': '11.1000', '5. volume': '345'}, '2024-12-09': {'1. open': '10.9000', '2. high': '11.0000', '3. low': '10.9000', '4. close': '11.0000', '5. volume': '2663'}, '2024-12-06': {'1. open': '10.8600', '2. high': '10.8600', '3. low': '10.8600', '4. close': '10.8600', '5. volume': '100'}, '2024-12-05': {'1. open': '10.9200', '2. high': '10.9200', '3. low': '10.9200', '4. close': '10.9200', '5. volume': '0'}, '2024-12-04': {'1. open': '10.9200', '2. high': '10.9200', '3. low': '10.9200', '4. close': '10.9200', '5. volume': '15'}, '2024-12-03': {'1. open': '10.8900', '2. high': '11.0000', '3. low': '10.8900', '4. close': '10.9200', '5. volume': '9942'}, '2024-12-02': {'1. open': '10.8600', '2. high': '10.8900', '3. low': '10.8465', '4. close': '10.8700', '5. volume': '2029'}, '2024-11-29': {'1. open': '10.9500', '2. high': '10.9700', '3. low': '10.9000', '4. close': '10.9000', '5. volume': '6620'}, '2024-11-27': {'1. open': '11.0000', '2. high': '11.0600', '3. low': '10.9000', '4. close': '11.0600', '5. volume': '14916'}, '2024-11-26': {'1. open': '11.0000', '2. high': '11.1100', '3. low': '10.9300', '4. close': '11.0000', '5. volume': '24996'}, '2024-11-25': {'1. open': '11.0000', '2. high': '11.0000', '3. low': '10.7900', '4. close': '11.0000', '5. volume': '23022'}, '2024-11-22': {'1. open': '10.4000', '2. high': '10.5500', '3. low': '10.3200', '4. close': '10.4600', '5. volume': '14210'}, '2024-11-21': {'1. open': '9.9450', '2. high': '10.5000', '3. low': '9.9300', '4. close': '10.2800', '5. volume': '16384'}, '2024-11-20': {'1. open': '9.7500', '2. high': '9.8200', '3. low': '9.7500', '4. close': '9.8200', '5. volume': '1139'}, '2024-11-19': {'1. open': '9.8000', '2. high': '9.8000', '3. low': '9.8000', '4. close': '9.8000', '5. volume': '1306'}, '2024-11-18': {'1. open': '9.6080', '2. high': '9.6080', '3. low': '9.6080', '4. close': '9.6080', '5. volume': '259'}, '2024-11-15': {'1. open': '9.4200', '2. high': '9.4200', '3. low': '9.2500', '4. close': '9.3200', '5. volume': '34301'}, '2024-11-14': {'1. open': '9.5000', '2. high': '9.5000', '3. low': '9.4700', '4. close': '9.4700', '5. volume': '1100'}, '2024-11-13': {'1. open': '9.6300', '2. high': '9.6400', '3. low': '9.5100', '4. close': '9.5100', '5. volume': '9920'}, '2024-11-12': {'1. open': '10.0000', '2. high': '10.0000', '3. low': '9.5900', '4. close': '9.6300', '5. volume': '15387'}, '2024-11-11': {'1. open': '9.9800', '2. high': '9.9800', '3. low': '9.6900', '4. close': '9.6900', '5. volume': '825'}, '2024-11-08': {'1. open': '9.9420', '2. high': '9.9420', '3. low': '9.7000', '4. close': '9.7500', '5. volume': '1420'}, '2024-11-07': {'1. open': '9.7500', '2. high': '9.9500', '3. low': '9.7500', '4. close': '9.9500', '5. volume': '300'}, '2024-11-06': {'1. open': '9.7200', '2. high': '9.7200', '3. low': '9.7200', '4. close': '9.7200', '5. volume': '1119'}, '2024-11-05': {'1. open': '9.7000', '2. high': '9.7000', '3. low': '9.7000', '4. close': '9.7000', '5. volume': '200'}, '2024-11-04': {'1. open': '10.1000', '2. high': '10.1000', '3. low': '10.1000', '4. close': '10.1000', '5. volume': '0'}, '2024-11-01': {'1. open': '10.1000', '2. high': '10.1000', '3. low': '10.1000', '4. close': '10.1000', '5. volume': '12'}, '2024-10-31': {'1. open': '10.1000', '2. high': '10.1000', '3. low': '10.1000', '4. close': '10.1000', '5. volume': '100'}, '2024-10-30': {'1. open': '9.4500', '2. high': '9.4500', '3. low': '9.4500', '4. close': '9.4500', '5. volume': '3100'}, '2024-10-29': {'1. open': '9.4000', '2. high': '9.4000', '3. low': '9.4000', '4. close': '9.4000', '5. volume': '9'}, '2024-10-28': {'1. open': '9.4000', '2. high': '9.4000', '3. low': '9.4000', '4. close': '9.4000', '5. volume': '12'}, '2024-10-25': {'1. open': '9.9400', '2. high': '9.9500', '3. low': '9.4000', '4. close': '9.4000', '5. volume': '9474'}, '2024-10-24': {'1. open': '8.8300', '2. high': '9.9000', '3. low': '8.8300', '4. close': '9.9000', '5. volume': '801'}, '2024-10-23': {'1. open': '8.8100', '2. high': '8.8100', '3. low': '8.8100', '4. close': '8.8100', '5. volume': '0'}, '2024-10-22': {'1. open': '8.8100', '2. high': '8.8100', '3. low': '8.8100', '4. close': '8.8100', '5. volume': '101'}, '2024-10-21': {'1. open': '8.9300', '2. high': '8.9300', '3. low': '8.9300', '4. close': '8.9300', '5. volume': '102'}, '2024-10-18': {'1. open': '9.5000', '2. high': '9.5000', '3. low': '8.8700', '4. close': '8.8700', '5. volume': '807'}, '2024-10-17': {'1. open': '9.5000', '2. high': '9.5000', '3. low': '9.5000', '4. close': '9.5000', '5. volume': '0'}, '2024-10-16': {'1. open': '9.5000', '2. high': '9.5000', '3. low': '9.5000', '4. close': '9.5000', '5. volume': '0'}, '2024-10-15': {'1. open': '9.5000', '2. high': '9.5000', '3. low': '9.5000', '4. close': '9.5000', '5. volume': '0'}, '2024-10-14': {'1. open': '9.5000', '2. high': '9.5000', '3. low': '9.5000', '4. close': '9.5000', '5. volume': '100'}, '2024-10-11': {'1. open': '7.2000', '2. high': '7.2000', '3. low': '7.2000', '4. close': '7.2000', '5. volume': '0'}, '2024-10-10': {'1. open': '7.2000', '2. high': '7.2000', '3. low': '7.2000', '4. close': '7.2000', '5. volume': '2'}, '2024-10-09': {'1. open': '7.2000', '2. high': '7.2000', '3. low': '7.2000', '4. close': '7.2000', '5. volume': '0'}, '2024-10-08': {'1. open': '7.2000', '2. high': '7.2000', '3. low': '7.2000', '4. close': '7.2000', '5. volume': '3556'}, '2024-10-07': {'1. open': '8.7500', '2. high': '8.7500', '3. low': '8.7500', '4. close': '8.7500', '5. volume': '50'}, '2024-10-04': {'1. open': '8.7500', '2. high': '8.7500', '3. low': '8.7500', '4. close': '8.7500', '5. volume': '0'}, '2024-10-03': {'1. open': '8.7500', '2. high': '8.7500', '3. low': '8.7500', '4. close': '8.7500', '5. volume': '100'}, '2024-10-02': {'1. open': '8.9610', '2. high': '8.9610', '3. low': '8.9610', '4. close': '8.9610', '5. volume': '0'}, '2024-10-01': {'1. open': '8.9610', '2. high': '8.9610', '3. low': '8.9610', '4. close': '8.9610', '5. volume': '68'}, '2024-09-30': {'1. open': '8.9610', '2. high': '8.9610', '3. low': '8.9610', '4. close': '8.9610', '5. volume': '0'}, '2024-09-27': {'1. open': '8.9610', '2. high': '8.9610', '3. low': '8.9610', '4. close': '8.9610', '5. volume': '150'}, '2024-09-26': {'1. open': '8.7500', '2. high': '8.7500', '3. low': '8.7500', '4. close': '8.7500', '5. volume': '10014'}, '2024-09-25': {'1. open': '9.8900', '2. high': '9.8900', '3. low': '9.8900', '4. close': '9.8900', '5. volume': '0'}, '2024-09-24': {'1. open': '9.8900', '2. high': '9.8900', '3. low': '9.8900', '4. close': '9.8900', '5. volume': '0'}, '2024-09-23': {'1. open': '9.8900', '2. high': '9.8900', '3. low': '9.8900', '4. close': '9.8900', '5. volume': '0'}}\n"
     ]
    }
   ],
   "source": [
    "# Send request and handle response\n",
    "response = requests.get(url, params=params)\n",
    "response.raise_for_status()\n",
    "\n",
    "# Parse stock time series data\n",
    "raw_data = response.json()\n",
    "data = raw_data[\"Time Series (Daily)\"]\n",
    "print(\"Daily stock price data:\", data)"
   ]
  },
  {
   "cell_type": "code",
   "execution_count": 9,
   "metadata": {},
   "outputs": [
    {
     "name": "stdout",
     "output_type": "stream",
     "text": [
      "Yesterday close: 12.966\n",
      "Two days ago close: 12.966\n"
     ]
    }
   ],
   "source": [
    "# Convert JSON data to Pandas DataFrame for analysis\n",
    "df = pd.DataFrame.from_dict(data, orient='index')\n",
    "\n",
    "# Extract closing prices for the last two days\n",
    "yesterday_close = float(df.iloc[0]['4. close'])\n",
    "two_days_close = float(df.iloc[1]['4. close'])\n",
    "print(f\"Yesterday close: {yesterday_close}\")\n",
    "print(f\"Two days ago close: {two_days_close}\")"
   ]
  },
  {
   "cell_type": "code",
   "execution_count": 10,
   "metadata": {},
   "outputs": [
    {
     "name": "stdout",
     "output_type": "stream",
     "text": [
      "The variation is within 5%\n"
     ]
    }
   ],
   "source": [
    "# Calculate the percentage difference in closing prices\n",
    "percentage_difference = (yesterday_close - two_days_close) / yesterday_close * 100\n",
    "\n",
    "# Determine if the stock price variation is within 5%\n",
    "if abs(percentage_difference) <= 5:\n",
    "    print(\"The variation is within 5%\")\n",
    "else:\n",
    "    print(\"The variation is more than 5%\")"
   ]
  }
 ],
 "metadata": {
  "kernelspec": {
   "display_name": "venv",
   "language": "python",
   "name": "python3"
  },
  "language_info": {
   "codemirror_mode": {
    "name": "ipython",
    "version": 3
   },
   "file_extension": ".py",
   "mimetype": "text/x-python",
   "name": "python",
   "nbconvert_exporter": "python",
   "pygments_lexer": "ipython3",
   "version": "3.12.3"
  }
 },
 "nbformat": 4,
 "nbformat_minor": 2
}
