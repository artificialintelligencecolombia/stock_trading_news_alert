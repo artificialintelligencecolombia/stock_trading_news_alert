{
 "cells": [
  {
   "cell_type": "code",
   "execution_count": 19,
   "metadata": {},
   "outputs": [],
   "source": [
    "import requests\n",
    "from twilio.rest import Client"
   ]
  },
  {
   "cell_type": "code",
   "execution_count": 20,
   "metadata": {},
   "outputs": [],
   "source": [
    "account_sid = 'AC95'\n",
    "auth_token = '78'\n",
    "body = \"Holi HOLIII\"\n",
    "from_wpp = \"whatsapp:+14155238886\" # Note: twilio sandbox number(wpp) is different to twilio phone number(msn) \n",
    "to_wpp = 'wh'"
   ]
  },
  {
   "cell_type": "code",
   "execution_count": 21,
   "metadata": {},
   "outputs": [
    {
     "name": "stdout",
     "output_type": "stream",
     "text": [
      "queued\n"
     ]
    }
   ],
   "source": [
    "client = Client(account_sid, auth_token)\n",
    "msn = client.messages.create( \n",
    "    body=body,\n",
    "    from_=from_wpp,\n",
    "    to=to_wpp,\n",
    "    )\n",
    "print(msn.status)"
   ]
  },
  {
   "cell_type": "code",
   "execution_count": null,
   "metadata": {},
   "outputs": [],
   "source": []
  }
 ],
 "metadata": {
  "kernelspec": {
   "display_name": "Python 3",
   "language": "python",
   "name": "python3"
  },
  "language_info": {
   "codemirror_mode": {
    "name": "ipython",
    "version": 3
   },
   "file_extension": ".py",
   "mimetype": "text/x-python",
   "name": "python",
   "nbconvert_exporter": "python",
   "pygments_lexer": "ipython3",
   "version": "3.12.3"
  }
 },
 "nbformat": 4,
 "nbformat_minor": 2
}
